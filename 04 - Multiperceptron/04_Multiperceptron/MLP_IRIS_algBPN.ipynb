{
 "cells": [
  {
   "cell_type": "code",
   "execution_count": 1,
   "id": "c84fb76d",
   "metadata": {},
   "outputs": [],
   "source": [
    "ColabNotebook = 'google.colab' in str(get_ipython())\n",
    "\n",
    "if ColabNotebook:\n",
    "    # monta G-drive en entorno COLAB\n",
    "    from google.colab import drive\n",
    "    drive.mount('/content/drive/')\n",
    "\n",
    "    # carpeta donde se encuentran archivos .py auxiliares\n",
    "    FUENTES_DIR = '/content/drive/MyDrive/Colab Notebooks/FUENTES/'\n",
    "    DATOS_DIR = '/content/drive/MyDrive/Colab Notebooks/DATOS/'      # carpeta donde se encuentran los datasets\n",
    "else:\n",
    "    # configuración para notebook con instalación LOCAL\n",
    "    FUENTES_DIR = '../Fuentes'         # carpeta donde se encuentran archivos .py auxiliares\n",
    "    DATOS_DIR   = '../Datos/' # carpeta donde se encuentran los datasets\n",
    "\n",
    "# agrega ruta de busqueda donde tenemos archivos .py\n",
    "import sys\n",
    "sys.path.append(FUENTES_DIR)"
   ]
  },
  {
   "cell_type": "code",
   "execution_count": 2,
   "id": "f3fbf3c3",
   "metadata": {},
   "outputs": [],
   "source": [
    "%matplotlib inline\n",
    "import pandas as pd\n",
    "import numpy as np\n",
    "from sklearn import preprocessing, metrics, model_selection\n",
    "\n",
    "import time\n",
    "#from matplotlib import pyplot as plt\n",
    "from matplotlib import pylab as plt\n",
    "from IPython import display\n"
   ]
  },
  {
   "cell_type": "code",
   "execution_count": 3,
   "id": "782b01a0",
   "metadata": {},
   "outputs": [
    {
     "data": {
      "text/html": [
       "<div>\n",
       "<style scoped>\n",
       "    .dataframe tbody tr th:only-of-type {\n",
       "        vertical-align: middle;\n",
       "    }\n",
       "\n",
       "    .dataframe tbody tr th {\n",
       "        vertical-align: top;\n",
       "    }\n",
       "\n",
       "    .dataframe thead th {\n",
       "        text-align: right;\n",
       "    }\n",
       "</style>\n",
       "<table border=\"1\" class=\"dataframe\">\n",
       "  <thead>\n",
       "    <tr style=\"text-align: right;\">\n",
       "      <th></th>\n",
       "      <th>sepallength</th>\n",
       "      <th>sepalwidth</th>\n",
       "      <th>petallength</th>\n",
       "      <th>petalwidth</th>\n",
       "      <th>class</th>\n",
       "    </tr>\n",
       "  </thead>\n",
       "  <tbody>\n",
       "    <tr>\n",
       "      <th>0</th>\n",
       "      <td>5.1</td>\n",
       "      <td>3.5</td>\n",
       "      <td>1.4</td>\n",
       "      <td>0.2</td>\n",
       "      <td>Iris-setosa</td>\n",
       "    </tr>\n",
       "    <tr>\n",
       "      <th>1</th>\n",
       "      <td>4.9</td>\n",
       "      <td>3.0</td>\n",
       "      <td>1.4</td>\n",
       "      <td>0.2</td>\n",
       "      <td>Iris-setosa</td>\n",
       "    </tr>\n",
       "    <tr>\n",
       "      <th>2</th>\n",
       "      <td>4.7</td>\n",
       "      <td>3.2</td>\n",
       "      <td>1.3</td>\n",
       "      <td>0.2</td>\n",
       "      <td>Iris-setosa</td>\n",
       "    </tr>\n",
       "    <tr>\n",
       "      <th>3</th>\n",
       "      <td>4.6</td>\n",
       "      <td>3.1</td>\n",
       "      <td>1.5</td>\n",
       "      <td>0.2</td>\n",
       "      <td>Iris-setosa</td>\n",
       "    </tr>\n",
       "    <tr>\n",
       "      <th>4</th>\n",
       "      <td>5.0</td>\n",
       "      <td>3.6</td>\n",
       "      <td>1.4</td>\n",
       "      <td>0.2</td>\n",
       "      <td>Iris-setosa</td>\n",
       "    </tr>\n",
       "  </tbody>\n",
       "</table>\n",
       "</div>"
      ],
      "text/plain": [
       "   sepallength  sepalwidth  petallength  petalwidth        class\n",
       "0          5.1         3.5          1.4         0.2  Iris-setosa\n",
       "1          4.9         3.0          1.4         0.2  Iris-setosa\n",
       "2          4.7         3.2          1.3         0.2  Iris-setosa\n",
       "3          4.6         3.1          1.5         0.2  Iris-setosa\n",
       "4          5.0         3.6          1.4         0.2  Iris-setosa"
      ]
     },
     "execution_count": 3,
     "metadata": {},
     "output_type": "execute_result"
    }
   ],
   "source": [
    "df = pd.read_csv(DATOS_DIR + 'iris.csv')\n",
    "df.head()"
   ]
  },
  {
   "cell_type": "markdown",
   "id": "d6b4c1d9",
   "metadata": {},
   "source": [
    "### Ejemplos utilizados en las diapositivas\n",
    "\n",
    "Usaremos una red neuronal maultipercpetrón para clasificar flores de iris.\n",
    "Se dispone de 4 atributos numéricos de entrada y una etiqueta de clase con 3 valores posibles. \n",
    "A fin de ejemplificar los cálculo, se han seleccionado algunos ejemplos del data set original luego de aplicar una normalización utilizando media y desvío."
   ]
  },
  {
   "cell_type": "code",
   "execution_count": 4,
   "id": "c15a0610",
   "metadata": {},
   "outputs": [],
   "source": [
    "X = np.array([[-1.73,-0.05,-1.38,-1.31], \n",
    "              [-0.37,-1.62, 0.22, 0.18],\n",
    "              [ 1.11,-0.05, 0.93, 1.54],\n",
    "              [-0.99, 0.39,-1.44,-1.31],\n",
    "              [ 1.73, 1.29, 1.46, 1.81]])\n",
    "Y=np.array([[1,0,0], \n",
    "            [0,1,0],\n",
    "            [0,0,1],\n",
    "            [1,0,0],\n",
    "            [0,0,1]])"
   ]
  },
  {
   "cell_type": "markdown",
   "id": "03ec3e26",
   "metadata": {},
   "source": [
    "X es una matriz de NxM donde N es la cantidad de ejemplos y M es la cantidad de atributos\n",
    "Y es una matrz de NxC donde N es la cantidad de ejemplos y C la cantidad de valores del atributo de clase.\n",
    "\n",
    "#### Matrices de pesos"
   ]
  },
  {
   "cell_type": "code",
   "execution_count": 5,
   "id": "8859fdc0",
   "metadata": {},
   "outputs": [],
   "source": [
    "W1 = np.array([[ 0.15, -0.13,  0.23, -0.45],\n",
    "               [-0.29, -0.41, -0.19,  0.37]])\n",
    "b1 = np.array([[-0.45],\n",
    "               [-0.10]])\n",
    "W2 = np.array([[ -4.79, -0.99],\n",
    "               [ 0.38,  0.09],\n",
    "               [ 2.40,  -0.38]])\n",
    "b2 = np.array([[-0.29],\n",
    "               [-0.17],\n",
    "               [-0.27]])"
   ]
  },
  {
   "cell_type": "markdown",
   "id": "8c10328b",
   "metadata": {},
   "source": [
    "**W1** es la matriz de pesos que une la capa de entrada con la capa oculta. Tiene dimensión OxM siendo O la cantidad de neuronas ocultas y M la cantidad de atributos.\n",
    "**b1** es un vector columna con O elementos, es decir con tantos valores como neuronas ocultas haya y representa el sesgo de cada neurona oculta.\n",
    "\n",
    "**W2** contiene los pesos de los arcos que van de las neuronas ocultas a las neuronas de la capa de salida. Su dimensión es SxO siendo S la cantidad de neuronas de la cpaa de salida y O la cantidad de neuronas ocultas.\n",
    "**b2** es un vector columna que contiene los sesgos de cada neurona de la capa de salida, es decir que tiene S elementos."
   ]
  },
  {
   "cell_type": "markdown",
   "id": "23e2cfac",
   "metadata": {},
   "source": [
    "#### Notación para acceder a cada ejemplo como una matriz de una sola fila\n",
    "\n",
    "Utilizando esta notación de matriz es posible trasponer los vectores"
   ]
  },
  {
   "cell_type": "code",
   "execution_count": 6,
   "id": "f273dad6",
   "metadata": {},
   "outputs": [
    {
     "name": "stdout",
     "output_type": "stream",
     "text": [
      "xi =  [[-1.73 -0.05 -1.38 -1.31]]\n",
      "xi.shape =  (1, 4)\n",
      "\n",
      "yi =  [[1 0 0]]\n",
      "yi.shape =  (1, 3)\n"
     ]
    }
   ],
   "source": [
    "e = 0  # nro. de ejemplo a introducir a la red\n",
    "xi = X[e:e+1, :]  #fila e de X\n",
    "yi = Y[e:e+1, :]  # respuesta esperada para el ejemplo e\n",
    "print(\"xi = \",xi)\n",
    "print(\"xi.shape = \", xi.shape)\n",
    "print(\"\\nyi = \", yi)\n",
    "print(\"yi.shape = \", yi.shape)\n"
   ]
  },
  {
   "cell_type": "markdown",
   "id": "e452e138",
   "metadata": {},
   "source": [
    "### Propagamos el ejemplo e hacia adelante"
   ]
  },
  {
   "cell_type": "markdown",
   "id": "093021e1",
   "metadata": {},
   "source": [
    "#### Salidas de la capa oculta con función de activación TANH"
   ]
  },
  {
   "cell_type": "code",
   "execution_count": 7,
   "id": "1c975ebb",
   "metadata": {},
   "outputs": [
    {
     "name": "stdout",
     "output_type": "stream",
     "text": [
      "netaH \n",
      " [[-0.4309]\n",
      " [ 0.1997]]\n",
      "salidasH = \n",
      " [[-0.40607318]\n",
      " [ 0.19708699]]\n"
     ]
    }
   ],
   "source": [
    "netasH = W1 @ xi.T + b1\n",
    "print(\"netaH \\n\", netasH)\n",
    "salidasH = 2.0/(1+np.exp(-2*netasH))-1\n",
    "print(\"salidasH = \\n\", salidasH)"
   ]
  },
  {
   "cell_type": "markdown",
   "id": "469d95d8",
   "metadata": {},
   "source": [
    "#### Salida de la red (capa de salida) con función de activación SIGMOID"
   ]
  },
  {
   "cell_type": "code",
   "execution_count": 8,
   "id": "43b5b9c4",
   "metadata": {},
   "outputs": [
    {
     "name": "stdout",
     "output_type": "stream",
     "text": [
      "netaO \n",
      " [[ 1.4599744 ]\n",
      " [-0.30656998]\n",
      " [-1.31946868]]\n",
      "salidaO = \n",
      " [[0.81152876]\n",
      " [0.42395219]\n",
      " [0.2109067 ]]\n"
     ]
    }
   ],
   "source": [
    "netasO =  W2 @ salidasH + b2\n",
    "print(\"netaO \\n\", netasO)\n",
    "salidasO = 1.0/(1+np.exp(-netasO))\n",
    "print(\"salidaO = \\n\", salidasO)"
   ]
  },
  {
   "cell_type": "markdown",
   "id": "ec161909",
   "metadata": {},
   "source": [
    "#### Error de cada neurona de la capa de salida "
   ]
  },
  {
   "cell_type": "code",
   "execution_count": 9,
   "id": "d60150d6",
   "metadata": {},
   "outputs": [
    {
     "name": "stdout",
     "output_type": "stream",
     "text": [
      "salidaO = \n",
      " [[0.81152876]\n",
      " [0.42395219]\n",
      " [0.2109067 ]]\n",
      "\n",
      "ErrorSalida = \n",
      " [[ 0.18847124]\n",
      " [-0.42395219]\n",
      " [-0.2109067 ]]\n"
     ]
    }
   ],
   "source": [
    "print(\"salidaO = \\n\", salidasO)\n",
    "ErrorSalida = yi.T-salidasO\n",
    "print(\"\\nErrorSalida = \\n\", ErrorSalida)\n"
   ]
  },
  {
   "cell_type": "markdown",
   "id": "2ceba50c",
   "metadata": {},
   "source": [
    "#### Calculamos los factores de corrección de los pesos"
   ]
  },
  {
   "cell_type": "code",
   "execution_count": 10,
   "id": "32acbc79",
   "metadata": {},
   "outputs": [
    {
     "name": "stdout",
     "output_type": "stream",
     "text": [
      "deriv_FunO = \n",
      " [[0.15294983]\n",
      " [0.24421673]\n",
      " [0.16642507]]\n",
      "deltaO = \n",
      " [[ 0.02882664]\n",
      " [-0.10353622]\n",
      " [-0.03510016]]\n",
      "\n",
      "deriv_FunH = \n",
      " [[0.83510457]\n",
      " [0.96115672]]\n",
      "\n",
      "W2.T @ deltaO = \n",
      " [[-0.26166378]\n",
      " [-0.02451858]]\n",
      "deltasH = \n",
      " [[-0.21851662]\n",
      " [-0.02356619]]\n",
      "\n",
      "W2.T = \n",
      " [[-4.79  0.38  2.4 ]\n",
      " [-0.99  0.09 -0.38]]\n"
     ]
    }
   ],
   "source": [
    "# la función de activación de la capa de salida es SIGMOID\n",
    "deriv_FunO = salidasO * (1-salidasO)\n",
    "print(\"deriv_FunO = \\n\", deriv_FunO)\n",
    "deltaO = ErrorSalida * deriv_FunO\n",
    "print(\"deltaO = \\n\", deltaO)\n",
    "\n",
    "# la función de atcivación de la capa oculta es TANH\n",
    "deriv_FunH = (1 - salidasH**2)\n",
    "print(\"\\nderiv_FunH = \\n\", deriv_FunH)\n",
    "\n",
    "errorH = W2.T @ deltaO\n",
    "print(\"\\nW2.T @ deltaO = \\n\", errorH)\n",
    "\n",
    "deltaH = deriv_FunH * (W2.T @ deltaO)\n",
    "print(\"deltasH = \\n\", deltaH)\n",
    "\n",
    "print(\"\\nW2.T = \\n\", np.round(W2.T,2))"
   ]
  },
  {
   "cell_type": "markdown",
   "id": "61c0ff92",
   "metadata": {},
   "source": [
    "#### Corrigiendo los pesos"
   ]
  },
  {
   "cell_type": "code",
   "execution_count": 11,
   "id": "053c152a",
   "metadata": {},
   "outputs": [
    {
     "name": "stdout",
     "output_type": "stream",
     "text": [
      "W1 = \n",
      " [[ 0.19 -0.13  0.26 -0.42]\n",
      " [-0.29 -0.41 -0.19  0.37]]\n",
      "b1 = \n",
      " [[-0.47]\n",
      " [-0.1 ]]\n",
      "W2 = \n",
      " [[-4.79 -0.99]\n",
      " [ 0.38  0.09]\n",
      " [ 2.4  -0.38]]\n",
      "b2 = \n",
      " [[-0.29]\n",
      " [-0.18]\n",
      " [-0.27]]\n"
     ]
    }
   ],
   "source": [
    "# corregir los pesos\n",
    "alfa=0.1\n",
    "\n",
    "W1 = W1 + alfa * deltaH @ xi \n",
    "b1 = b1 + alfa * deltaH \n",
    "W2 = W2 + alfa * deltaO @ salidasH.T \n",
    "b2 = b2 + alfa * deltaO \n",
    "\n",
    "print(\"W1 = \\n\", np.round(W1,2))\n",
    "print(\"b1 = \\n\", np.round(b1,2))\n",
    "print(\"W2 = \\n\", np.round(W2,2))\n",
    "print(\"b2 = \\n\", np.round(b2,2))"
   ]
  },
  {
   "cell_type": "markdown",
   "id": "ba6ea7ef",
   "metadata": {},
   "source": [
    "#### Calculamos la salida de la red para el mismo ejemplo luego de corregir los pesos"
   ]
  },
  {
   "cell_type": "code",
   "execution_count": 12,
   "id": "f49b117a",
   "metadata": {},
   "outputs": [
    {
     "name": "stdout",
     "output_type": "stream",
     "text": [
      "salidaO = \n",
      " [[0.89080126]\n",
      " [0.40850633]\n",
      " [0.16423515]]\n",
      "ErrorSalida = \n",
      " [[ 0.10919874]\n",
      " [-0.40850633]\n",
      " [-0.16423515]]\n"
     ]
    }
   ],
   "source": [
    "netasH = W1 @ xi.T + b1\n",
    "salidasH = 2.0/(1+np.exp(-2*netasH))-1\n",
    "netasO =  W2 @ salidasH + b2\n",
    "salidasO = 1.0/(1+np.exp(-netasO))\n",
    "print(\"salidaO = \\n\", salidasO)\n",
    "ErrorSalidaNew = yi.T-salidasO\n",
    "print(\"ErrorSalida = \\n\", ErrorSalidaNew)"
   ]
  },
  {
   "cell_type": "markdown",
   "id": "1a0cdaf7",
   "metadata": {},
   "source": [
    "#### Comparando el error antes y después de corregir los pesos"
   ]
  },
  {
   "cell_type": "code",
   "execution_count": 13,
   "id": "85220618",
   "metadata": {},
   "outputs": [
    {
     "name": "stdout",
     "output_type": "stream",
     "text": [
      "Error inicial =  0.25973850457967945\n",
      "Error luego de la correccion =  0.2057749693024508\n"
     ]
    }
   ],
   "source": [
    "print(\"Error inicial = \", np.sum(ErrorSalida**2))\n",
    "print(\"Error luego de la correccion = \", np.sum(ErrorSalidaNew**2))"
   ]
  },
  {
   "cell_type": "code",
   "execution_count": null,
   "id": "8f5d79ed",
   "metadata": {},
   "outputs": [],
   "source": []
  }
 ],
 "metadata": {
  "kernelspec": {
   "display_name": "Python 3",
   "language": "python",
   "name": "python3"
  },
  "language_info": {
   "codemirror_mode": {
    "name": "ipython",
    "version": 3
   },
   "file_extension": ".py",
   "mimetype": "text/x-python",
   "name": "python",
   "nbconvert_exporter": "python",
   "pygments_lexer": "ipython3",
   "version": "3.8.8"
  }
 },
 "nbformat": 4,
 "nbformat_minor": 5
}
