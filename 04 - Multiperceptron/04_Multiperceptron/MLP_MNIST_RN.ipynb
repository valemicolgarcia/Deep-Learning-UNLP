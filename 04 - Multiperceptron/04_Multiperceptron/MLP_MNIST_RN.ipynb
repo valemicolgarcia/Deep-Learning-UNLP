{
 "cells": [
  {
   "cell_type": "code",
   "execution_count": 1,
   "id": "eac103a9",
   "metadata": {},
   "outputs": [],
   "source": [
    "ColabNotebook = 'google.colab' in str(get_ipython())\n",
    "\n",
    "if ColabNotebook:\n",
    "    # monta G-drive en entorno COLAB\n",
    "    from google.colab import drive\n",
    "    drive.mount('/content/drive/')\n",
    "\n",
    "    DATOS_DIR = '/content/drive/MyDrive/Colab Notebooks/DATOS/'      # carpeta donde se encuentran los datasets\n",
    "else:\n",
    "    DATOS_DIR   = '../Datos/' # carpeta donde se encuentran los datasets"
   ]
  },
  {
   "cell_type": "code",
   "execution_count": 2,
   "id": "1a76d62d",
   "metadata": {},
   "outputs": [],
   "source": [
    "import numpy as np\n",
    "import pandas as pd\n",
    "import matplotlib.pyplot as plt\n",
    "import time\n",
    "from sklearn import preprocessing, metrics, model_selection\n",
    "from sklearn.neural_network import MLPClassifier"
   ]
  },
  {
   "cell_type": "code",
   "execution_count": 3,
   "id": "baec3e63",
   "metadata": {},
   "outputs": [],
   "source": [
    "df_train = pd.read_csv(DATOS_DIR + 'optdigits_train.csv')\n",
    "X_train = np.array(df_train.iloc[:,:-1]).astype(float)\n",
    "Y_train = np.array(df_train.iloc[:,-1])\n",
    "\n",
    "df_test = pd.read_csv(DATOS_DIR + 'optdigits_test.csv')\n",
    "X_test = np.array(df_test.iloc[:,:-1]).astype(float)\n",
    "Y_test = np.array(df_test.iloc[:,-1])"
   ]
  },
  {
   "cell_type": "code",
   "execution_count": 4,
   "id": "2c3fa452",
   "metadata": {},
   "outputs": [],
   "source": [
    "normalizarEntrada = 1  # 1 si normaliza; 0 si no\n",
    "\n",
    "if normalizarEntrada:\n",
    "    # Escala los valores entre 0 y 1\n",
    "    min_max_scaler = preprocessing.StandardScaler()\n",
    "    X_train = min_max_scaler.fit_transform(X_train)\n",
    "    X_test = min_max_scaler.transform(X_test)\n",
    "    "
   ]
  },
  {
   "cell_type": "code",
   "execution_count": 5,
   "id": "d4a8e5e7",
   "metadata": {},
   "outputs": [
    {
     "name": "stdout",
     "output_type": "stream",
     "text": [
      "duracion = 17.55079 seg.\n"
     ]
    }
   ],
   "source": [
    "clf = MLPClassifier(solver='sgd', learning_rate_init=0.05,\n",
    "                    hidden_layer_sizes=(15,), random_state=1,\n",
    "                    max_iter=2000, \n",
    "                    verbose=False,  tol=1.0e-05,\n",
    "                    batch_size=1, \n",
    "                    activation='logistic')\n",
    "ini = time.time()\n",
    "history = clf.fit(X_train,Y_train)\n",
    "fin = time.time()\n",
    "print(\"duracion = %.5f seg.\" % (fin-ini))"
   ]
  },
  {
   "cell_type": "code",
   "execution_count": 6,
   "id": "25c9e093",
   "metadata": {},
   "outputs": [
    {
     "name": "stdout",
     "output_type": "stream",
     "text": [
      "duracion = 8.96722 seg.\n"
     ]
    }
   ],
   "source": [
    "clf = MLPClassifier(solver='sgd', learning_rate_init=0.05,\n",
    "                    hidden_layer_sizes=(15,), random_state=1,\n",
    "                    max_iter=2000, \n",
    "                    verbose=False,  tol=1.0e-05,\n",
    "                    batch_size=200, \n",
    "                    activation='logistic')\n",
    "ini = time.time()\n",
    "history = clf.fit(X_train,Y_train)\n",
    "fin = time.time()\n",
    "print(\"duracion = %.5f seg.\" % (fin-ini))"
   ]
  },
  {
   "cell_type": "code",
   "execution_count": 7,
   "id": "5801b22a",
   "metadata": {},
   "outputs": [
    {
     "data": {
      "image/png": "[encoded data removed]",
      "text/plain": [
       "<Figure size 432x288 with 1 Axes>"
      ]
     },
     "metadata": {
      "needs_background": "light"
     },
     "output_type": "display_data"
    }
   ],
   "source": [
    "plt.plot(range(1, len(history.loss_curve_) + 1), history.loss_curve_, marker='o')\n",
    "plt.xlabel('Iteraciones')\n",
    "plt.ylabel('ECM')\n",
    "plt.show()"
   ]
  },
  {
   "cell_type": "code",
   "execution_count": 8,
   "id": "ddb40db5",
   "metadata": {},
   "outputs": [
    {
     "name": "stdout",
     "output_type": "stream",
     "text": [
      "% aciertos X_train : 1.000\n"
     ]
    }
   ],
   "source": [
    "Y_pred = clf.predict(X_train)\n",
    "print(\"%% aciertos X_train : %.3f\" % metrics.accuracy_score(Y_train,Y_pred))"
   ]
  },
  {
   "cell_type": "code",
   "execution_count": 9,
   "id": "f2c10cb3",
   "metadata": {},
   "outputs": [
    {
     "name": "stdout",
     "output_type": "stream",
     "text": [
      "Confusion matrix Training:\n",
      "              precision    recall  f1-score   support\n",
      "\n",
      "           0       1.00      1.00      1.00       376\n",
      "           1       1.00      1.00      1.00       389\n",
      "           2       1.00      1.00      1.00       380\n",
      "           3       1.00      1.00      1.00       389\n",
      "           4       1.00      1.00      1.00       387\n",
      "           5       1.00      1.00      1.00       376\n",
      "           6       1.00      1.00      1.00       377\n",
      "           7       1.00      1.00      1.00       387\n",
      "           8       1.00      1.00      1.00       380\n",
      "           9       1.00      1.00      1.00       382\n",
      "\n",
      "    accuracy                           1.00      3823\n",
      "   macro avg       1.00      1.00      1.00      3823\n",
      "weighted avg       1.00      1.00      1.00      3823\n",
      "\n"
     ]
    }
   ],
   "source": [
    "report = metrics.classification_report(Y_train,Y_pred)\n",
    "print(\"Confusion matrix Training:\\n%s\" % report) "
   ]
  },
  {
   "cell_type": "code",
   "execution_count": 10,
   "id": "927b150a",
   "metadata": {},
   "outputs": [
    {
     "name": "stdout",
     "output_type": "stream",
     "text": [
      "Confusion matrix:\n",
      "[[376   0   0   0   0   0   0   0   0   0]\n",
      " [  0 389   0   0   0   0   0   0   0   0]\n",
      " [  0   0 380   0   0   0   0   0   0   0]\n",
      " [  0   0   0 389   0   0   0   0   0   0]\n",
      " [  0   0   0   0 387   0   0   0   0   0]\n",
      " [  0   0   0   0   0 376   0   0   0   0]\n",
      " [  0   0   0   0   0   0 377   0   0   0]\n",
      " [  0   0   0   0   0   0   0 387   0   0]\n",
      " [  0   0   0   0   0   0   0   0 380   0]\n",
      " [  0   0   0   0   0   0   0   0   0 382]]\n"
     ]
    }
   ],
   "source": [
    "MM = metrics.confusion_matrix(Y_train,Y_pred)\n",
    "print(\"Confusion matrix:\\n%s\" % MM)"
   ]
  },
  {
   "cell_type": "code",
   "execution_count": 11,
   "id": "37e1179a",
   "metadata": {},
   "outputs": [
    {
     "data": {
      "image/png": "[encoded data removed]",
      "text/plain": [
       "<Figure size 432x288 with 2 Axes>"
      ]
     },
     "metadata": {
      "needs_background": "light"
     },
     "output_type": "display_data"
    }
   ],
   "source": [
    "fig=metrics.plot_confusion_matrix(clf, X_train, Y_train) \n",
    "plt.title(\"Matriz de confusión - Datos TRAIN\") \n",
    "plt.show()"
   ]
  },
  {
   "cell_type": "code",
   "execution_count": 12,
   "id": "cbc7cd9a",
   "metadata": {},
   "outputs": [
    {
     "name": "stdout",
     "output_type": "stream",
     "text": [
      "% aciertos X_test : 0.959\n",
      "\n",
      "Confusion matrix Test:\n",
      "              precision    recall  f1-score   support\n",
      "\n",
      "           0       0.98      0.99      0.99       178\n",
      "           1       0.94      0.99      0.96       182\n",
      "           2       0.98      0.94      0.96       177\n",
      "           3       0.96      0.96      0.96       183\n",
      "           4       0.98      0.98      0.98       181\n",
      "           5       0.94      0.97      0.96       182\n",
      "           6       1.00      0.99      0.99       181\n",
      "           7       0.98      0.94      0.96       179\n",
      "           8       0.92      0.89      0.90       174\n",
      "           9       0.91      0.94      0.93       180\n",
      "\n",
      "    accuracy                           0.96      1797\n",
      "   macro avg       0.96      0.96      0.96      1797\n",
      "weighted avg       0.96      0.96      0.96      1797\n",
      "\n",
      "Confusion matrix:\n",
      "[[177   0   0   0   0   0   0   0   1   0]\n",
      " [  0 180   0   0   0   0   0   0   2   0]\n",
      " [  0   1 166   3   0   0   0   0   7   0]\n",
      " [  0   0   2 176   0   2   0   1   0   2]\n",
      " [  0   1   0   0 177   0   0   0   1   2]\n",
      " [  1   0   1   1   0 177   0   1   0   1]\n",
      " [  1   0   0   0   1   0 179   0   0   0]\n",
      " [  0   0   0   0   1   5   0 169   0   4]\n",
      " [  0   8   0   2   1   2   0   0 154   7]\n",
      " [  1   2   1   2   0   2   0   1   2 169]]\n"
     ]
    },
    {
     "data": {
      "image/png": "[encoded data removed]",
      "text/plain": [
       "<Figure size 432x288 with 2 Axes>"
      ]
     },
     "metadata": {
      "needs_background": "light"
     },
     "output_type": "display_data"
    }
   ],
   "source": [
    "# -- TESTING ---\n",
    "Y_pred= clf.predict(X_test)\n",
    "print(\"%% aciertos X_test : %.3f\\n\" % metrics.accuracy_score(Y_test,Y_pred))\n",
    "\n",
    "report = metrics.classification_report(Y_test, Y_pred)\n",
    "print(\"Confusion matrix Test:\\n%s\" % report) \n",
    "\n",
    "MM = metrics.confusion_matrix(Y_test, Y_pred)\n",
    "print(\"Confusion matrix:\\n%s\" % MM)\n",
    "\n",
    "fig=metrics.plot_confusion_matrix(clf, X_test, Y_test)  \n",
    "plt.title(\"Matriz de confusión - Datos TESTEO\")\n",
    "plt.show()"
   ]
  },
  {
   "cell_type": "code",
   "execution_count": null,
   "id": "e04f8af2",
   "metadata": {},
   "outputs": [],
   "source": []
  }
 ],
 "metadata": {
  "kernelspec": {
   "display_name": "Python 3",
   "language": "python",
   "name": "python3"
  },
  "language_info": {
   "codemirror_mode": {
    "name": "ipython",
    "version": 3
   },
   "file_extension": ".py",
   "mimetype": "text/x-python",
   "name": "python",
   "nbconvert_exporter": "python",
   "pygments_lexer": "ipython3",
   "version": "3.8.8"
  }
 },
 "nbformat": 4,
 "nbformat_minor": 5
}
