{
 "cells": [
  {
   "cell_type": "code",
   "execution_count": 1,
   "id": "d05cb7a7",
   "metadata": {},
   "outputs": [],
   "source": [
    "ColabNotebook = 'google.colab' in str(get_ipython())\n",
    "\n",
    "if ColabNotebook:\n",
    "    # monta G-drive en entorno COLAB\n",
    "    from google.colab import drive\n",
    "    drive.mount('/content/drive/')\n",
    "\n",
    "    # carpeta donde se encuentran archivos .py auxiliares\n",
    "    FUENTES_DIR = '/content/drive/MyDrive/Colab Notebooks/FUENTES/'\n",
    "    DATOS_DIR = '/content/drive/MyDrive/Colab Notebooks/DATOS/'      # carpeta donde se encuentran los datasets\n",
    "else:\n",
    "    # configuración para notebook con instalación LOCAL\n",
    "    FUENTES_DIR = '../Fuentes'         # carpeta donde se encuentran archivos .py auxiliares\n",
    "    DATOS_DIR   = '../Datos/' # carpeta donde se encuentran los datasets\n",
    "\n",
    "# agrega ruta de busqueda donde tenemos archivos .py\n",
    "import sys\n",
    "sys.path.append(FUENTES_DIR)"
   ]
  },
  {
   "cell_type": "code",
   "execution_count": 2,
   "id": "3896f775",
   "metadata": {},
   "outputs": [],
   "source": [
    "from tensorflow.keras.optimizers import SGD\n",
    "from tensorflow.keras.models import Sequential\n",
    "from tensorflow.keras.layers import Dense\n",
    "from tensorflow.keras.utils import to_categorical\n",
    "\n",
    "import numpy as np\n",
    "from sklearn import preprocessing, metrics, model_selection \n",
    "import pandas as pd"
   ]
  },
  {
   "cell_type": "code",
   "execution_count": 3,
   "id": "50f3a17a",
   "metadata": {},
   "outputs": [
    {
     "name": "stdout",
     "output_type": "stream",
     "text": [
      "['Iris-setosa' 'Iris-versicolor' 'Iris-virginica']\n"
     ]
    }
   ],
   "source": [
    "df = pd.read_csv(DATOS_DIR + 'Iris.csv')\n",
    "\n",
    "# Tomamos todas las columnas menos la última\n",
    "X = np.array(df.iloc[:, 0:-1])\n",
    "Y = np.array(df.iloc[:,-1])\n",
    "\n",
    "#Hay 50 muestras de cada tipo de flor\n",
    "print(Y[[1,50,100]])"
   ]
  },
  {
   "cell_type": "code",
   "execution_count": 4,
   "id": "e2dfd940",
   "metadata": {},
   "outputs": [
    {
     "name": "stdout",
     "output_type": "stream",
     "text": [
      "[0 1 2]\n"
     ]
    }
   ],
   "source": [
    "# convertimos las etiquetas categóricas en numéricas\n",
    "encoder = preprocessing.LabelEncoder()\n",
    "Y = encoder.fit_transform(Y)\n",
    "print(Y[[1,50,100]])"
   ]
  },
  {
   "cell_type": "code",
   "execution_count": 5,
   "id": "94fa46dc",
   "metadata": {},
   "outputs": [
    {
     "name": "stdout",
     "output_type": "stream",
     "text": [
      "[[0. 1. 0.]\n",
      " [0. 0. 1.]\n",
      " [1. 0. 0.]\n",
      " [1. 0. 0.]\n",
      " [0. 1. 0.]]\n"
     ]
    }
   ],
   "source": [
    "#--- CONJUNTOS DE ENTRENAMIENTO Y TESTEO ---\n",
    "X_train, X_test, Y_train, Y_test = model_selection.train_test_split( \\\n",
    "        X, Y, test_size=0.30) #, random_state=42)\n",
    "\n",
    "Y_trainB = to_categorical(Y_train)\n",
    "print(Y_trainB[:5, :])"
   ]
  },
  {
   "cell_type": "code",
   "execution_count": 6,
   "id": "e9d2f87f",
   "metadata": {},
   "outputs": [],
   "source": [
    "normalizarEntrada = 1  # 1 si normaliza; 0 si no\n",
    "\n",
    "if normalizarEntrada:\n",
    "    # Escala los valores entre 0 y 1\n",
    "    min_max_scaler = preprocessing.StandardScaler()\n",
    "    X_train = min_max_scaler.fit_transform(X_train)\n",
    "    X_test = min_max_scaler.transform(X_test)"
   ]
  },
  {
   "cell_type": "markdown",
   "id": "272c54bd",
   "metadata": {},
   "source": [
    "### Definición del modelo"
   ]
  },
  {
   "cell_type": "code",
   "execution_count": 7,
   "id": "7acf287d",
   "metadata": {},
   "outputs": [
    {
     "name": "stdout",
     "output_type": "stream",
     "text": [
      "Model: \"sequential\"\n",
      "_________________________________________________________________\n",
      " Layer (type)                Output Shape              Param #   \n",
      "=================================================================\n",
      " dense (Dense)               (None, 2)                 10        \n",
      "                                                                 \n",
      " dense_1 (Dense)             (None, 3)                 9         \n",
      "                                                                 \n",
      "=================================================================\n",
      "Total params: 19\n",
      "Trainable params: 19\n",
      "Non-trainable params: 0\n",
      "_________________________________________________________________\n"
     ]
    }
   ],
   "source": [
    "# Crear un modelo de capas secuenciales\n",
    "model=Sequential()\n",
    "\n",
    "# Agregar las capas al modelo\n",
    "model.add(Dense(2, input_shape=[4], activation='LeakyReLU'))    #'ReLU', LeakyReLU'\n",
    "model.add(Dense(3, activation='softmax'))\n",
    "\n",
    "# Imprimir un resumen del modelo\n",
    "model.summary()"
   ]
  },
  {
   "cell_type": "code",
   "execution_count": 8,
   "id": "46844e29",
   "metadata": {},
   "outputs": [],
   "source": [
    "# Configuración para entrenamiento\n",
    "#model.compile(optimizer=SGD(learning_rate=0.05), loss='mse', metrics='accuracy')\n",
    "model.compile(optimizer=SGD(learning_rate=0.05), loss='categorical_crossentropy', metrics='accuracy')"
   ]
  },
  {
   "cell_type": "code",
   "execution_count": 9,
   "id": "795c2f86",
   "metadata": {},
   "outputs": [
    {
     "name": "stdout",
     "output_type": "stream",
     "text": [
      "Epoch 100: loss = 0.12886466085910797, accuracy = 0.9714285731315613\n",
      "Epoch 200: loss = 0.07507823407649994, accuracy = 0.961904764175415\n",
      "Epoch 300: loss = 0.058176975697278976, accuracy = 0.9714285731315613\n",
      "Epoch 400: loss = 0.05031540244817734, accuracy = 0.9714285731315613\n",
      "Epoch 500: loss = 0.04561284929513931, accuracy = 0.9809523820877075\n",
      "Epoch 600: loss = 0.04311607778072357, accuracy = 0.9714285731315613\n",
      "Epoch 700: loss = 0.04039682075381279, accuracy = 0.9809523820877075\n",
      "Epoch 800: loss = 0.03882600739598274, accuracy = 0.9714285731315613\n",
      "Epoch 900: loss = 0.03770894557237625, accuracy = 0.9714285731315613\n",
      "Epoch 1000: loss = 0.036170605570077896, accuracy = 0.9714285731315613\n"
     ]
    },
    {
     "data": {
      "text/plain": [
       "<keras.callbacks.History at 0x1544c905988>"
      ]
     },
     "execution_count": 9,
     "metadata": {},
     "output_type": "execute_result"
    }
   ],
   "source": [
    "from tensorflow.keras.callbacks import LambdaCallback\n",
    "\n",
    "# Define el callback\n",
    "def on_epoch_end(epoch, logs):\n",
    "    if (epoch + 1) % 100 == 0:  # Cambia 10 por el número de épocas deseado\n",
    "        print(f\"Epoch {epoch + 1}: loss = {logs['loss']}, accuracy = {logs['accuracy']}\")\n",
    "\n",
    "# Crea el LambdaCallback\n",
    "epoch_end_callback = LambdaCallback(on_epoch_end=on_epoch_end)\n",
    "\n",
    "# Entrena el modelo con el callback\n",
    "model.fit(X_train,Y_trainB, epochs=1000, callbacks=[epoch_end_callback], verbose=0)"
   ]
  },
  {
   "cell_type": "code",
   "execution_count": 10,
   "id": "9056971f",
   "metadata": {},
   "outputs": [
    {
     "name": "stdout",
     "output_type": "stream",
     "text": [
      "4/4 [==============================] - 0s 2ms/step - loss: 0.0358 - accuracy: 0.9714\n",
      "Error : 0.035751793533563614\n",
      "Accuracy: 0.9714285731315613\n"
     ]
    }
   ],
   "source": [
    "# Calcular el error del modelo\n",
    "score = model.evaluate(X_train, Y_trainB) \n",
    "print('Error :', score[0]) \n",
    "print('Accuracy:', score[1])"
   ]
  },
  {
   "cell_type": "code",
   "execution_count": 11,
   "id": "e56f2f4a",
   "metadata": {},
   "outputs": [
    {
     "name": "stdout",
     "output_type": "stream",
     "text": [
      "4/4 [==============================] - 0s 6ms/step\n",
      "[[4.51713195e-03 9.92592752e-01 2.89017451e-03]\n",
      " [9.16678437e-06 1.03224724e-04 9.99887526e-01]\n",
      " [9.99993742e-01 6.22506559e-06 2.28215252e-10]\n",
      " [9.99983966e-01 1.59620649e-05 8.01237965e-10]\n",
      " [3.10441968e-03 9.87047493e-01 9.84807312e-03]]\n",
      "[1 2 0 0 1]\n",
      "% aciertos X_train : 0.971\n"
     ]
    }
   ],
   "source": [
    "# predecir la salida del modelo\n",
    "Y_pred = model.predict(X_train)\n",
    "print(Y_pred[:5])\n",
    "\n",
    "Y_pred2 = np.argmax(Y_pred,axis=1)\n",
    "print(Y_pred2[:5])\n",
    "\n",
    "print(\"%% aciertos X_train : %.3f\" % metrics.accuracy_score(Y_train, Y_pred2))"
   ]
  },
  {
   "cell_type": "code",
   "execution_count": 12,
   "id": "a2d2c239",
   "metadata": {},
   "outputs": [
    {
     "name": "stdout",
     "output_type": "stream",
     "text": [
      "Confusion matrix Training:\n",
      "              precision    recall  f1-score   support\n",
      "\n",
      "           0       1.00      1.00      1.00        35\n",
      "           1       0.97      0.94      0.95        33\n",
      "           2       0.95      0.97      0.96        37\n",
      "\n",
      "    accuracy                           0.97       105\n",
      "   macro avg       0.97      0.97      0.97       105\n",
      "weighted avg       0.97      0.97      0.97       105\n",
      "\n",
      "Confusion matrix:\n",
      "[[35  0  0]\n",
      " [ 0 31  2]\n",
      " [ 0  1 36]]\n"
     ]
    }
   ],
   "source": [
    "report = metrics.classification_report(Y_train, Y_pred2)\n",
    "print(\"Confusion matrix Training:\\n%s\" % report) \n",
    "\n",
    "MM = metrics.confusion_matrix(Y_train, Y_pred2)\n",
    "print(\"Confusion matrix:\\n%s\" % MM)"
   ]
  },
  {
   "cell_type": "code",
   "execution_count": 13,
   "id": "a323f3b3",
   "metadata": {},
   "outputs": [],
   "source": [
    "model.save(\"miniIris.h5\")"
   ]
  },
  {
   "cell_type": "code",
   "execution_count": 14,
   "id": "05d0b51b",
   "metadata": {},
   "outputs": [
    {
     "name": "stdout",
     "output_type": "stream",
     "text": [
      "Model: \"sequential\"\n",
      "_________________________________________________________________\n",
      " Layer (type)                Output Shape              Param #   \n",
      "=================================================================\n",
      " dense (Dense)               (None, 2)                 10        \n",
      "                                                                 \n",
      " dense_1 (Dense)             (None, 3)                 9         \n",
      "                                                                 \n",
      "=================================================================\n",
      "Total params: 19\n",
      "Trainable params: 19\n",
      "Non-trainable params: 0\n",
      "_________________________________________________________________\n",
      "4/4 [==============================] - 0s 3ms/step\n",
      "[[4.51713195e-03 9.92592752e-01 2.89017451e-03]\n",
      " [9.16678437e-06 1.03224724e-04 9.99887526e-01]\n",
      " [9.99993742e-01 6.22506559e-06 2.28215252e-10]\n",
      " [9.99983966e-01 1.59620649e-05 8.01237965e-10]\n",
      " [3.10441968e-03 9.87047493e-01 9.84807312e-03]]\n"
     ]
    }
   ],
   "source": [
    "from keras.models import load_model\n",
    "modelo2 = load_model(\"miniIris.h5\")\n",
    "modelo2.summary()\n",
    "\n",
    "# predecir la salida del modelo\n",
    "Y_pred = modelo2.predict(X_train)\n",
    "print(Y_pred[:5])\n"
   ]
  },
  {
   "cell_type": "code",
   "execution_count": null,
   "id": "8dbbbb08",
   "metadata": {},
   "outputs": [],
   "source": []
  }
 ],
 "metadata": {
  "kernelspec": {
   "display_name": "Python 3 (ipykernel)",
   "language": "python",
   "name": "python3"
  },
  "language_info": {
   "codemirror_mode": {
    "name": "ipython",
    "version": 3
   },
   "file_extension": ".py",
   "mimetype": "text/x-python",
   "name": "python",
   "nbconvert_exporter": "python",
   "pygments_lexer": "ipython3",
   "version": "3.7.16"
  }
 },
 "nbformat": 4,
 "nbformat_minor": 5
}
