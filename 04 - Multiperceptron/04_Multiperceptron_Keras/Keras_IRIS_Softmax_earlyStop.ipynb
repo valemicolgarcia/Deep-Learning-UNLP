{
 "cells": [
  {
   "cell_type": "code",
   "execution_count": 1,
   "id": "c5e6a55f",
   "metadata": {},
   "outputs": [],
   "source": [
    "ColabNotebook = 'google.colab' in str(get_ipython())\n",
    "\n",
    "if ColabNotebook:\n",
    "    # monta G-drive en entorno COLAB\n",
    "    from google.colab import drive\n",
    "    drive.mount('/content/drive/')\n",
    "\n",
    "    # carpeta donde se encuentran archivos .py auxiliares\n",
    "    FUENTES_DIR = '/content/drive/MyDrive/Colab Notebooks/FUENTES/'\n",
    "    DATOS_DIR = '/content/drive/MyDrive/Colab Notebooks/DATOS/'      # carpeta donde se encuentran los datasets\n",
    "else:\n",
    "    # configuración para notebook con instalación LOCAL\n",
    "    FUENTES_DIR = '../Fuentes'         # carpeta donde se encuentran archivos .py auxiliares\n",
    "    DATOS_DIR   = '../Datos/' # carpeta donde se encuentran los datasets\n",
    "\n",
    "# agrega ruta de busqueda donde tenemos archivos .py\n",
    "import sys\n",
    "sys.path.append(FUENTES_DIR)"
   ]
  },
  {
   "cell_type": "code",
   "execution_count": 2,
   "id": "3896f775",
   "metadata": {},
   "outputs": [],
   "source": [
    "from tensorflow.keras.optimizers import SGD\n",
    "from tensorflow.keras.callbacks import EarlyStopping\n",
    "from tensorflow.keras.models import Sequential\n",
    "from tensorflow.keras.layers import Dense\n",
    "from tensorflow.keras.utils import to_categorical\n",
    "\n",
    "import matplotlib.pyplot as plt\n",
    "import numpy as np\n",
    "from sklearn import preprocessing, metrics, model_selection \n",
    "import pandas as pd\n",
    "\n",
    "# Ajustar el tamaño predeterminado de las figuras\n",
    "plt.rcParams['figure.figsize'] = [6,4]"
   ]
  },
  {
   "cell_type": "code",
   "execution_count": 3,
   "id": "50f3a17a",
   "metadata": {},
   "outputs": [],
   "source": [
    "df = pd.read_csv(DATOS_DIR + 'Iris.csv')\n",
    "\n",
    "# Tomamos todas las columnas menos la última\n",
    "X = np.array(df.iloc[:, 0:-1])\n",
    "Y = np.array(df.iloc[:,-1])\n",
    "encoder = preprocessing.LabelEncoder()\n",
    "Y = encoder.fit_transform(Y)\n",
    "Y_bin= to_categorical(Y)"
   ]
  },
  {
   "cell_type": "code",
   "execution_count": 4,
   "id": "94fa46dc",
   "metadata": {},
   "outputs": [],
   "source": [
    "#--- CONJUNTOS DE ENTRENAMIENTO Y TESTEO ---\n",
    "X_train, X_test, Y_train, Y_test = model_selection.train_test_split( \\\n",
    "        X, Y_bin, test_size=0.20) #, random_state=42)\n"
   ]
  },
  {
   "cell_type": "code",
   "execution_count": 5,
   "id": "e9d2f87f",
   "metadata": {},
   "outputs": [],
   "source": [
    "normalizarEntrada = 1  # 1 si normaliza; 0 si no\n",
    "\n",
    "if normalizarEntrada:\n",
    "    # Escala los valores entre 0 y 1\n",
    "    min_max_scaler = preprocessing.StandardScaler()\n",
    "    X_train = min_max_scaler.fit_transform(X_train)\n",
    "    X_test = min_max_scaler.transform(X_test)"
   ]
  },
  {
   "cell_type": "markdown",
   "id": "272c54bd",
   "metadata": {},
   "source": [
    "### Definición del modelo"
   ]
  },
  {
   "cell_type": "code",
   "execution_count": 6,
   "id": "7acf287d",
   "metadata": {},
   "outputs": [
    {
     "name": "stdout",
     "output_type": "stream",
     "text": [
      "Model: \"sequential\"\n",
      "_________________________________________________________________\n",
      " Layer (type)                Output Shape              Param #   \n",
      "=================================================================\n",
      " dense (Dense)               (None, 2)                 10        \n",
      "                                                                 \n",
      " dense_1 (Dense)             (None, 3)                 9         \n",
      "                                                                 \n",
      "=================================================================\n",
      "Total params: 19\n",
      "Trainable params: 19\n",
      "Non-trainable params: 0\n",
      "_________________________________________________________________\n"
     ]
    }
   ],
   "source": [
    "# Crear un modelo de capas secuenciales\n",
    "model=Sequential()\n",
    "\n",
    "# Agregar las capas al modelo\n",
    "model.add(Dense(2, input_shape=[4], activation='LeakyReLU'))\n",
    "model.add(Dense(3, activation='softmax'))\n",
    "\n",
    "# Imprimir un resumen del modelo\n",
    "model.summary()"
   ]
  },
  {
   "cell_type": "code",
   "execution_count": 7,
   "id": "46844e29",
   "metadata": {},
   "outputs": [],
   "source": [
    "# Configuración para entrenamiento\n",
    "model.compile(optimizer=SGD(learning_rate=0.1), loss='categorical_crossentropy', metrics='accuracy')"
   ]
  },
  {
   "cell_type": "code",
   "execution_count": 8,
   "id": "795c2f86",
   "metadata": {},
   "outputs": [
    {
     "name": "stdout",
     "output_type": "stream",
     "text": [
      "Epoch 1/4000\n",
      "6/6 [==============================] - 1s 38ms/step - loss: 1.0958 - accuracy: 0.3417 - val_loss: 0.8640 - val_accuracy: 0.4667\n",
      "Epoch 2/4000\n",
      "6/6 [==============================] - 0s 6ms/step - loss: 0.7179 - accuracy: 0.6500 - val_loss: 0.7410 - val_accuracy: 0.5333\n",
      "Epoch 3/4000\n",
      "6/6 [==============================] - 0s 3ms/step - loss: 0.6270 - accuracy: 0.6750 - val_loss: 0.6784 - val_accuracy: 0.5667\n",
      "Epoch 4/4000\n",
      "6/6 [==============================] - 0s 3ms/step - loss: 0.5797 - accuracy: 0.7167 - val_loss: 0.6359 - val_accuracy: 0.6667\n",
      "Epoch 5/4000\n",
      "6/6 [==============================] - 0s 4ms/step - loss: 0.5467 - accuracy: 0.7667 - val_loss: 0.6029 - val_accuracy: 0.7667\n",
      "Epoch 6/4000\n",
      "6/6 [==============================] - 0s 7ms/step - loss: 0.5215 - accuracy: 0.8417 - val_loss: 0.5764 - val_accuracy: 0.7333\n",
      "Epoch 7/4000\n",
      "6/6 [==============================] - 0s 7ms/step - loss: 0.5011 - accuracy: 0.8500 - val_loss: 0.5546 - val_accuracy: 0.8000\n",
      "Epoch 8/4000\n",
      "6/6 [==============================] - 0s 4ms/step - loss: 0.4829 - accuracy: 0.8583 - val_loss: 0.5357 - val_accuracy: 0.8333\n",
      "Epoch 9/4000\n",
      "6/6 [==============================] - 0s 7ms/step - loss: 0.4672 - accuracy: 0.8750 - val_loss: 0.5183 - val_accuracy: 0.8667\n",
      "Epoch 10/4000\n",
      "6/6 [==============================] - 0s 4ms/step - loss: 0.4539 - accuracy: 0.8500 - val_loss: 0.5034 - val_accuracy: 0.8667\n",
      "Epoch 11/4000\n",
      "6/6 [==============================] - 0s 4ms/step - loss: 0.4404 - accuracy: 0.8667 - val_loss: 0.4889 - val_accuracy: 0.9333\n",
      "Epoch 12/4000\n",
      "6/6 [==============================] - 0s 7ms/step - loss: 0.4293 - accuracy: 0.8583 - val_loss: 0.4758 - val_accuracy: 0.9333\n",
      "Epoch 13/4000\n",
      "6/6 [==============================] - 0s 3ms/step - loss: 0.4171 - accuracy: 0.8750 - val_loss: 0.4628 - val_accuracy: 0.9333\n",
      "Epoch 14/4000\n",
      "6/6 [==============================] - 0s 7ms/step - loss: 0.4060 - accuracy: 0.8833 - val_loss: 0.4503 - val_accuracy: 0.9333\n",
      "Epoch 15/4000\n",
      "6/6 [==============================] - 0s 7ms/step - loss: 0.3955 - accuracy: 0.8667 - val_loss: 0.4394 - val_accuracy: 0.9333\n",
      "Epoch 16/4000\n",
      "6/6 [==============================] - 0s 5ms/step - loss: 0.3862 - accuracy: 0.8750 - val_loss: 0.4286 - val_accuracy: 0.9333\n",
      "Epoch 17/4000\n",
      "6/6 [==============================] - 0s 5ms/step - loss: 0.3766 - accuracy: 0.8833 - val_loss: 0.4187 - val_accuracy: 0.9333\n",
      "Epoch 18/4000\n",
      "6/6 [==============================] - 0s 5ms/step - loss: 0.3684 - accuracy: 0.8917 - val_loss: 0.4091 - val_accuracy: 0.9333\n",
      "Epoch 19/4000\n",
      "6/6 [==============================] - 0s 4ms/step - loss: 0.3604 - accuracy: 0.9083 - val_loss: 0.3998 - val_accuracy: 0.9333\n",
      "Epoch 20/4000\n",
      "6/6 [==============================] - 0s 4ms/step - loss: 0.3528 - accuracy: 0.8750 - val_loss: 0.3920 - val_accuracy: 0.9333\n",
      "Epoch 21/4000\n",
      "6/6 [==============================] - 0s 7ms/step - loss: 0.3446 - accuracy: 0.9250 - val_loss: 0.3834 - val_accuracy: 0.9333\n",
      "Epoch 22/4000\n",
      "6/6 [==============================] - 0s 5ms/step - loss: 0.3373 - accuracy: 0.9167 - val_loss: 0.3755 - val_accuracy: 0.9333\n",
      "Epoch 23/4000\n",
      "6/6 [==============================] - 0s 5ms/step - loss: 0.3307 - accuracy: 0.9250 - val_loss: 0.3676 - val_accuracy: 0.9333\n",
      "Epoch 24/4000\n",
      "6/6 [==============================] - 0s 7ms/step - loss: 0.3241 - accuracy: 0.9250 - val_loss: 0.3606 - val_accuracy: 0.9333\n",
      "Epoch 25/4000\n",
      "6/6 [==============================] - 0s 5ms/step - loss: 0.3179 - accuracy: 0.9250 - val_loss: 0.3537 - val_accuracy: 0.9333\n",
      "Epoch 26/4000\n",
      "6/6 [==============================] - 0s 5ms/step - loss: 0.3114 - accuracy: 0.9250 - val_loss: 0.3479 - val_accuracy: 0.9333\n",
      "Epoch 27/4000\n",
      "6/6 [==============================] - 0s 3ms/step - loss: 0.3063 - accuracy: 0.9250 - val_loss: 0.3416 - val_accuracy: 0.9333\n",
      "Epoch 28/4000\n",
      "6/6 [==============================] - 0s 5ms/step - loss: 0.3000 - accuracy: 0.9250 - val_loss: 0.3358 - val_accuracy: 0.9333\n",
      "Epoch 29/4000\n",
      "6/6 [==============================] - 0s 5ms/step - loss: 0.2967 - accuracy: 0.9250 - val_loss: 0.3306 - val_accuracy: 0.9333\n",
      "Epoch 30/4000\n",
      "6/6 [==============================] - 0s 7ms/step - loss: 0.2902 - accuracy: 0.9250 - val_loss: 0.3255 - val_accuracy: 0.9333\n",
      "Epoch 31/4000\n",
      "6/6 [==============================] - 0s 8ms/step - loss: 0.2855 - accuracy: 0.9250 - val_loss: 0.3200 - val_accuracy: 0.9333\n",
      "Epoch 32/4000\n",
      "6/6 [==============================] - 0s 6ms/step - loss: 0.2801 - accuracy: 0.9250 - val_loss: 0.3153 - val_accuracy: 0.9333\n",
      "Epoch 33/4000\n",
      "6/6 [==============================] - 0s 5ms/step - loss: 0.2756 - accuracy: 0.9250 - val_loss: 0.3106 - val_accuracy: 0.9333\n",
      "Epoch 34/4000\n",
      "6/6 [==============================] - 0s 4ms/step - loss: 0.2723 - accuracy: 0.9333 - val_loss: 0.3061 - val_accuracy: 0.9333\n",
      "Epoch 35/4000\n",
      "6/6 [==============================] - 0s 3ms/step - loss: 0.2672 - accuracy: 0.9333 - val_loss: 0.3015 - val_accuracy: 0.9333\n",
      "Epoch 36/4000\n",
      "6/6 [==============================] - 0s 4ms/step - loss: 0.2635 - accuracy: 0.9250 - val_loss: 0.2976 - val_accuracy: 0.9333\n",
      "Epoch 37/4000\n",
      "6/6 [==============================] - 0s 6ms/step - loss: 0.2599 - accuracy: 0.9333 - val_loss: 0.2937 - val_accuracy: 0.9333\n",
      "Epoch 38/4000\n",
      "6/6 [==============================] - 0s 4ms/step - loss: 0.2558 - accuracy: 0.9250 - val_loss: 0.2906 - val_accuracy: 0.9333\n",
      "Epoch 39/4000\n",
      "6/6 [==============================] - 0s 4ms/step - loss: 0.2519 - accuracy: 0.9333 - val_loss: 0.2872 - val_accuracy: 0.9333\n",
      "Epoch 40/4000\n",
      "6/6 [==============================] - 0s 9ms/step - loss: 0.2486 - accuracy: 0.9333 - val_loss: 0.2835 - val_accuracy: 0.9333\n",
      "Epoch 41/4000\n",
      "6/6 [==============================] - 0s 5ms/step - loss: 0.2454 - accuracy: 0.9333 - val_loss: 0.2800 - val_accuracy: 0.9333\n"
     ]
    }
   ],
   "source": [
    "es = EarlyStopping(monitor='val_accuracy', patience=30, min_delta=1e-06, restore_best_weights=True)\n",
    "\n",
    "H = model.fit(x = X_train, y = Y_train, epochs=4000, batch_size = 20, \n",
    "              validation_data = (X_test, Y_test),  callbacks=[es])"
   ]
  },
  {
   "cell_type": "code",
   "execution_count": 9,
   "id": "6864106a",
   "metadata": {},
   "outputs": [
    {
     "name": "stdout",
     "output_type": "stream",
     "text": [
      "épocas = 41\n",
      "Epocas = 40\n"
     ]
    }
   ],
   "source": [
    "print(\"épocas = %d\" % len(H.history[\"val_accuracy\"]))   \n",
    "print(\"Epocas = %d\" % es.stopped_epoch)"
   ]
  },
  {
   "cell_type": "code",
   "execution_count": 10,
   "id": "e56f2f4a",
   "metadata": {},
   "outputs": [
    {
     "name": "stdout",
     "output_type": "stream",
     "text": [
      "4/4 [==============================] - 0s 2ms/step\n",
      "% aciertos X_train : 0.875\n",
      "1/1 [==============================] - 0s 16ms/step\n",
      "% aciertos X_train : 0.933\n"
     ]
    }
   ],
   "source": [
    "# predecir la salida del modelo\n",
    "Y_pred = model.predict(X_train)\n",
    "Y_pred2 = np.argmax(Y_pred,axis=1)\n",
    "\n",
    "Y_true =  np.argmax(Y_train,axis=1)\n",
    "\n",
    "print(\"%% aciertos X_train : %.3f\" % metrics.accuracy_score(Y_true, Y_pred2))\n",
    "\n",
    "Y_test_pred = model.predict(X_test)\n",
    "Y_test_pred2 = np.argmax(Y_test_pred,axis=1)\n",
    "\n",
    "Y_test_true =  np.argmax(Y_test,axis=1)\n",
    "\n",
    "print(\"%% aciertos X_train : %.3f\" % metrics.accuracy_score(Y_test_true, Y_test_pred2))"
   ]
  },
  {
   "cell_type": "code",
   "execution_count": 11,
   "id": "a2d2c239",
   "metadata": {},
   "outputs": [
    {
     "name": "stdout",
     "output_type": "stream",
     "text": [
      "Confusion matrix Training:\n",
      "              precision    recall  f1-score   support\n",
      "\n",
      "           0       1.00      1.00      1.00        42\n",
      "           1       0.93      0.68      0.79        41\n",
      "           2       0.73      0.95      0.82        37\n",
      "\n",
      "    accuracy                           0.88       120\n",
      "   macro avg       0.89      0.88      0.87       120\n",
      "weighted avg       0.89      0.88      0.87       120\n",
      "\n",
      "Confusion matrix:\n",
      "[[42  0  0]\n",
      " [ 0 28 13]\n",
      " [ 0  2 35]]\n"
     ]
    }
   ],
   "source": [
    "report = metrics.classification_report(Y_true, Y_pred2)\n",
    "print(\"Confusion matrix Training:\\n%s\" % report) \n",
    "\n",
    "MM = metrics.confusion_matrix(Y_true, Y_pred2)\n",
    "print(\"Confusion matrix:\\n%s\" % MM)"
   ]
  },
  {
   "cell_type": "code",
   "execution_count": 12,
   "id": "a323f3b3",
   "metadata": {},
   "outputs": [
    {
     "data": {
      "text/plain": [
       "<matplotlib.legend.Legend at 0x1baca5df208>"
      ]
     },
     "execution_count": 12,
     "metadata": {},
     "output_type": "execute_result"
    },
    {
     "data": {
      "image/png": "[encoded data removed]",
      "text/plain": [
       "<Figure size 600x400 with 1 Axes>"
      ]
     },
     "metadata": {},
     "output_type": "display_data"
    }
   ],
   "source": [
    "# dibuja accuracy del progreso del entrenamiento\n",
    "accuracy = np.array(H.history[\"accuracy\"])\n",
    "val_accuracy = np.array(H.history[\"val_accuracy\"])\n",
    "\n",
    "N = np.arange(0, len(accuracy))\n",
    "plt.figure()\n",
    "#plt.plot(N, H.history[\"loss\"], label=\"train_loss\")\n",
    "#plt.plot(N, H.history[\"val_loss\"], label=\"val_loss\")\n",
    "plt.plot(N, 100*accuracy, label=\"train_acc\")\n",
    "plt.plot(N, 100*val_accuracy, label=\"val_acc\")\n",
    "plt.title(\"Efectividad de Entrenamiento\")\n",
    "plt.xlabel(\"Época #\")\n",
    "plt.ylabel(\"Efectividad\")\n",
    "plt.legend(loc=\"lower right\")"
   ]
  },
  {
   "cell_type": "code",
   "execution_count": 13,
   "id": "8d8b19b8",
   "metadata": {},
   "outputs": [
    {
     "data": {
      "text/plain": [
       "<matplotlib.legend.Legend at 0x1bacadb1dc8>"
      ]
     },
     "execution_count": 13,
     "metadata": {},
     "output_type": "execute_result"
    },
    {
     "data": {
      "image/png": "[encoded data removed]",
      "text/plain": [
       "<Figure size 600x400 with 1 Axes>"
      ]
     },
     "metadata": {},
     "output_type": "display_data"
    }
   ],
   "source": [
    "# dibuja accuracy del progreso del entrenamiento\n",
    "accuracy = np.array(H.history[\"loss\"])\n",
    "val_accuracy = np.array(H.history[\"val_loss\"])\n",
    "\n",
    "N = np.arange(0, len(accuracy))\n",
    "plt.figure()\n",
    "#plt.plot(N, H.history[\"loss\"], label=\"train_loss\")\n",
    "#plt.plot(N, H.history[\"val_loss\"], label=\"val_loss\")\n",
    "plt.plot(N, 100*accuracy, label=\"train_loss\")\n",
    "plt.plot(N, 100*val_accuracy, label=\"val_loss\")\n",
    "plt.title(\"Error\")\n",
    "plt.xlabel(\"Época #\")\n",
    "plt.ylabel(\"loss\")\n",
    "plt.legend(loc=\"lower left\")"
   ]
  },
  {
   "cell_type": "code",
   "execution_count": null,
   "id": "60f6237a",
   "metadata": {},
   "outputs": [],
   "source": []
  }
 ],
 "metadata": {
  "kernelspec": {
   "display_name": "Python 3 (ipykernel)",
   "language": "python",
   "name": "python3"
  },
  "language_info": {
   "codemirror_mode": {
    "name": "ipython",
    "version": 3
   },
   "file_extension": ".py",
   "mimetype": "text/x-python",
   "name": "python",
   "nbconvert_exporter": "python",
   "pygments_lexer": "ipython3",
   "version": "3.7.16"
  }
 },
 "nbformat": 4,
 "nbformat_minor": 5
}
