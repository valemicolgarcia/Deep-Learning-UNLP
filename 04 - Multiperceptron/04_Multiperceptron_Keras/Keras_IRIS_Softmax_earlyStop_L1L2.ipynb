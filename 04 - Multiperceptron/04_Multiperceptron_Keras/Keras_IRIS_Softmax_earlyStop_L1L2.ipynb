{
 "cells": [
  {
   "cell_type": "code",
   "execution_count": 1,
   "id": "67f65dc3",
   "metadata": {},
   "outputs": [],
   "source": [
    "ColabNotebook = 'google.colab' in str(get_ipython())\n",
    "\n",
    "if ColabNotebook:\n",
    "    # monta G-drive en entorno COLAB\n",
    "    from google.colab import drive\n",
    "    drive.mount('/content/drive/')\n",
    "\n",
    "    # carpeta donde se encuentran archivos .py auxiliares\n",
    "    FUENTES_DIR = '/content/drive/MyDrive/Colab Notebooks/FUENTES/'\n",
    "    DATOS_DIR = '/content/drive/MyDrive/Colab Notebooks/DATOS/'      # carpeta donde se encuentran los datasets\n",
    "else:\n",
    "    # configuración para notebook con instalación LOCAL\n",
    "    FUENTES_DIR = '../Fuentes'         # carpeta donde se encuentran archivos .py auxiliares\n",
    "    DATOS_DIR   = '../Datos/' # carpeta donde se encuentran los datasets\n",
    "\n",
    "# agrega ruta de busqueda donde tenemos archivos .py\n",
    "import sys\n",
    "sys.path.append(FUENTES_DIR)"
   ]
  },
  {
   "cell_type": "code",
   "execution_count": 2,
   "id": "3896f775",
   "metadata": {},
   "outputs": [],
   "source": [
    "from tensorflow.keras.optimizers import SGD\n",
    "from tensorflow.keras.callbacks import EarlyStopping\n",
    "from tensorflow.keras.regularizers import l2, l1, l1_l2\n",
    "from tensorflow.keras.models import Sequential\n",
    "from tensorflow.keras.layers import Dense\n",
    "from tensorflow.keras.utils import to_categorical\n",
    "\n",
    "import matplotlib.pyplot as plt\n",
    "import numpy as np\n",
    "from sklearn import preprocessing, metrics, model_selection \n",
    "import pandas as pd\n",
    "# Ajustar el tamaño predeterminado de las figuras\n",
    "plt.rcParams['figure.figsize'] = [6,4]"
   ]
  },
  {
   "cell_type": "code",
   "execution_count": 3,
   "id": "50f3a17a",
   "metadata": {},
   "outputs": [],
   "source": [
    "df = pd.read_csv(DATOS_DIR + 'Iris.csv')\n",
    "\n",
    "# Tomamos todas las columnas menos la última\n",
    "X = np.array(df.iloc[:, 0:-1])\n",
    "Y = np.array(df.iloc[:,-1])\n",
    "encoder = preprocessing.LabelEncoder()\n",
    "Y = encoder.fit_transform(Y)\n",
    "Y_bin= to_categorical(Y)"
   ]
  },
  {
   "cell_type": "code",
   "execution_count": 4,
   "id": "94fa46dc",
   "metadata": {},
   "outputs": [],
   "source": [
    "#--- CONJUNTOS DE ENTRENAMIENTO Y TESTEO ---\n",
    "X_train, X_test, Y_train, Y_test = model_selection.train_test_split( \\\n",
    "        X, Y_bin, test_size=0.20) #, random_state=42)\n"
   ]
  },
  {
   "cell_type": "code",
   "execution_count": 5,
   "id": "e9d2f87f",
   "metadata": {},
   "outputs": [],
   "source": [
    "normalizarEntrada = 1  # 1 si normaliza; 0 si no\n",
    "\n",
    "if normalizarEntrada:\n",
    "    # Escala los valores entre 0 y 1\n",
    "    min_max_scaler = preprocessing.StandardScaler()\n",
    "    X_train = min_max_scaler.fit_transform(X_train)\n",
    "    X_test = min_max_scaler.transform(X_test)"
   ]
  },
  {
   "cell_type": "markdown",
   "id": "272c54bd",
   "metadata": {},
   "source": [
    "### Definición del modelo"
   ]
  },
  {
   "cell_type": "code",
   "execution_count": 6,
   "id": "7acf287d",
   "metadata": {},
   "outputs": [
    {
     "name": "stdout",
     "output_type": "stream",
     "text": [
      "Model: \"sequential\"\n",
      "_________________________________________________________________\n",
      " Layer (type)                Output Shape              Param #   \n",
      "=================================================================\n",
      " dense (Dense)               (None, 2)                 10        \n",
      "                                                                 \n",
      " dense_1 (Dense)             (None, 3)                 9         \n",
      "                                                                 \n",
      "=================================================================\n",
      "Total params: 19\n",
      "Trainable params: 19\n",
      "Non-trainable params: 0\n",
      "_________________________________________________________________\n"
     ]
    }
   ],
   "source": [
    "# Crear un modelo de capas secuenciales\n",
    "model=Sequential()\n",
    "\n",
    "# Agregar las capas al modelo\n",
    "model.add(Dense(2, input_shape=[4], activation='tanh', kernel_regularizer=l2(0.01)))\n",
    "model.add(Dense(3, activation='softmax'))\n",
    "\n",
    "# Imprimir un resumen del modelo\n",
    "model.summary()"
   ]
  },
  {
   "cell_type": "code",
   "execution_count": 7,
   "id": "46844e29",
   "metadata": {},
   "outputs": [],
   "source": [
    "# Configuración para entrenamiento\n",
    "model.compile(optimizer=SGD(learning_rate=0.1), loss='categorical_crossentropy', metrics='accuracy')"
   ]
  },
  {
   "cell_type": "code",
   "execution_count": 8,
   "id": "795c2f86",
   "metadata": {},
   "outputs": [
    {
     "name": "stdout",
     "output_type": "stream",
     "text": [
      "Epoch 1/4000\n",
      "6/6 [==============================] - 1s 85ms/step - loss: 1.2415 - accuracy: 0.4333 - val_loss: 1.0630 - val_accuracy: 0.3667\n",
      "Epoch 2/4000\n",
      "6/6 [==============================] - 0s 7ms/step - loss: 1.0138 - accuracy: 0.4250 - val_loss: 0.9001 - val_accuracy: 0.3000\n",
      "Epoch 3/4000\n",
      "6/6 [==============================] - 0s 7ms/step - loss: 0.8839 - accuracy: 0.3833 - val_loss: 0.8037 - val_accuracy: 0.6333\n",
      "Epoch 4/4000\n",
      "6/6 [==============================] - 0s 7ms/step - loss: 0.8008 - accuracy: 0.6583 - val_loss: 0.7437 - val_accuracy: 0.6333\n",
      "Epoch 5/4000\n",
      "6/6 [==============================] - 0s 6ms/step - loss: 0.7458 - accuracy: 0.6667 - val_loss: 0.7003 - val_accuracy: 0.6333\n",
      "Epoch 6/4000\n",
      "6/6 [==============================] - 0s 7ms/step - loss: 0.7032 - accuracy: 0.6750 - val_loss: 0.6654 - val_accuracy: 0.6333\n",
      "Epoch 7/4000\n",
      "6/6 [==============================] - 0s 6ms/step - loss: 0.6653 - accuracy: 0.6750 - val_loss: 0.6352 - val_accuracy: 0.7000\n",
      "Epoch 8/4000\n",
      "6/6 [==============================] - 0s 6ms/step - loss: 0.6321 - accuracy: 0.7083 - val_loss: 0.6078 - val_accuracy: 0.7667\n",
      "Epoch 9/4000\n",
      "6/6 [==============================] - 0s 6ms/step - loss: 0.6037 - accuracy: 0.7417 - val_loss: 0.5823 - val_accuracy: 0.8000\n",
      "Epoch 10/4000\n",
      "6/6 [==============================] - 0s 6ms/step - loss: 0.5765 - accuracy: 0.7583 - val_loss: 0.5585 - val_accuracy: 0.8667\n",
      "Epoch 11/4000\n",
      "6/6 [==============================] - 0s 8ms/step - loss: 0.5523 - accuracy: 0.7667 - val_loss: 0.5360 - val_accuracy: 0.9333\n",
      "Epoch 12/4000\n",
      "6/6 [==============================] - 0s 16ms/step - loss: 0.5285 - accuracy: 0.7917 - val_loss: 0.5149 - val_accuracy: 0.9333\n",
      "Epoch 13/4000\n",
      "6/6 [==============================] - 0s 9ms/step - loss: 0.5074 - accuracy: 0.8250 - val_loss: 0.4953 - val_accuracy: 0.9333\n",
      "Epoch 14/4000\n",
      "6/6 [==============================] - 0s 7ms/step - loss: 0.4880 - accuracy: 0.8500 - val_loss: 0.4769 - val_accuracy: 0.9667\n",
      "Epoch 15/4000\n",
      "6/6 [==============================] - 0s 7ms/step - loss: 0.4700 - accuracy: 0.8750 - val_loss: 0.4595 - val_accuracy: 0.9667\n",
      "Epoch 16/4000\n",
      "6/6 [==============================] - 0s 7ms/step - loss: 0.4533 - accuracy: 0.9000 - val_loss: 0.4434 - val_accuracy: 0.9667\n",
      "Epoch 17/4000\n",
      "6/6 [==============================] - 0s 6ms/step - loss: 0.4383 - accuracy: 0.9083 - val_loss: 0.4283 - val_accuracy: 0.9667\n",
      "Epoch 18/4000\n",
      "6/6 [==============================] - 0s 6ms/step - loss: 0.4226 - accuracy: 0.9250 - val_loss: 0.4142 - val_accuracy: 0.9667\n",
      "Epoch 19/4000\n",
      "6/6 [==============================] - 0s 18ms/step - loss: 0.4104 - accuracy: 0.9333 - val_loss: 0.4011 - val_accuracy: 0.9667\n",
      "Epoch 20/4000\n",
      "6/6 [==============================] - 0s 6ms/step - loss: 0.3964 - accuracy: 0.9333 - val_loss: 0.3888 - val_accuracy: 0.9667\n",
      "Epoch 21/4000\n",
      "6/6 [==============================] - 0s 8ms/step - loss: 0.3819 - accuracy: 0.9417 - val_loss: 0.3768 - val_accuracy: 0.9667\n",
      "Epoch 22/4000\n",
      "6/6 [==============================] - 0s 7ms/step - loss: 0.3702 - accuracy: 0.9500 - val_loss: 0.3653 - val_accuracy: 0.9667\n",
      "Epoch 23/4000\n",
      "6/6 [==============================] - 0s 8ms/step - loss: 0.3587 - accuracy: 0.9667 - val_loss: 0.3549 - val_accuracy: 0.9667\n",
      "Epoch 24/4000\n",
      "6/6 [==============================] - 0s 10ms/step - loss: 0.3479 - accuracy: 0.9583 - val_loss: 0.3447 - val_accuracy: 0.9667\n",
      "Epoch 25/4000\n",
      "6/6 [==============================] - 0s 7ms/step - loss: 0.3369 - accuracy: 0.9667 - val_loss: 0.3351 - val_accuracy: 0.9667\n",
      "Epoch 26/4000\n",
      "6/6 [==============================] - 0s 9ms/step - loss: 0.3276 - accuracy: 0.9667 - val_loss: 0.3257 - val_accuracy: 0.9667\n",
      "Epoch 27/4000\n",
      "6/6 [==============================] - 0s 9ms/step - loss: 0.3179 - accuracy: 0.9667 - val_loss: 0.3170 - val_accuracy: 0.9333\n",
      "Epoch 28/4000\n",
      "6/6 [==============================] - 0s 7ms/step - loss: 0.3086 - accuracy: 0.9667 - val_loss: 0.3088 - val_accuracy: 0.9667\n",
      "Epoch 29/4000\n",
      "6/6 [==============================] - 0s 8ms/step - loss: 0.2997 - accuracy: 0.9667 - val_loss: 0.3012 - val_accuracy: 0.9667\n",
      "Epoch 30/4000\n",
      "6/6 [==============================] - 0s 8ms/step - loss: 0.2934 - accuracy: 0.9667 - val_loss: 0.2942 - val_accuracy: 0.9667\n",
      "Epoch 31/4000\n",
      "6/6 [==============================] - 0s 7ms/step - loss: 0.2844 - accuracy: 0.9667 - val_loss: 0.2878 - val_accuracy: 0.9667\n",
      "Epoch 32/4000\n",
      "6/6 [==============================] - 0s 6ms/step - loss: 0.2779 - accuracy: 0.9667 - val_loss: 0.2814 - val_accuracy: 0.9667\n",
      "Epoch 33/4000\n",
      "6/6 [==============================] - 0s 7ms/step - loss: 0.2699 - accuracy: 0.9750 - val_loss: 0.2748 - val_accuracy: 0.9667\n",
      "Epoch 34/4000\n",
      "6/6 [==============================] - 0s 27ms/step - loss: 0.2640 - accuracy: 0.9667 - val_loss: 0.2687 - val_accuracy: 0.9667\n",
      "Epoch 35/4000\n",
      "6/6 [==============================] - 0s 9ms/step - loss: 0.2565 - accuracy: 0.9750 - val_loss: 0.2631 - val_accuracy: 0.9667\n",
      "Epoch 36/4000\n",
      "6/6 [==============================] - 0s 10ms/step - loss: 0.2505 - accuracy: 0.9750 - val_loss: 0.2579 - val_accuracy: 0.9667\n",
      "Epoch 37/4000\n",
      "6/6 [==============================] - 0s 7ms/step - loss: 0.2455 - accuracy: 0.9750 - val_loss: 0.2527 - val_accuracy: 0.9667\n",
      "Epoch 38/4000\n",
      "6/6 [==============================] - 0s 6ms/step - loss: 0.2405 - accuracy: 0.9667 - val_loss: 0.2475 - val_accuracy: 0.9667\n",
      "Epoch 39/4000\n",
      "6/6 [==============================] - 0s 7ms/step - loss: 0.2358 - accuracy: 0.9750 - val_loss: 0.2433 - val_accuracy: 0.9667\n",
      "Epoch 40/4000\n",
      "6/6 [==============================] - 0s 7ms/step - loss: 0.2326 - accuracy: 0.9667 - val_loss: 0.2388 - val_accuracy: 0.9667\n",
      "Epoch 41/4000\n",
      "6/6 [==============================] - 0s 6ms/step - loss: 0.2265 - accuracy: 0.9750 - val_loss: 0.2348 - val_accuracy: 0.9667\n",
      "Epoch 42/4000\n",
      "6/6 [==============================] - 0s 5ms/step - loss: 0.2225 - accuracy: 0.9750 - val_loss: 0.2306 - val_accuracy: 0.9667\n",
      "Epoch 43/4000\n",
      "6/6 [==============================] - 0s 4ms/step - loss: 0.2173 - accuracy: 0.9667 - val_loss: 0.2266 - val_accuracy: 0.9667\n",
      "Epoch 44/4000\n",
      "6/6 [==============================] - 0s 8ms/step - loss: 0.2139 - accuracy: 0.9750 - val_loss: 0.2230 - val_accuracy: 0.9667\n"
     ]
    }
   ],
   "source": [
    "es = EarlyStopping(monitor='val_accuracy', patience=30, min_delta=1e-06, restore_best_weights=True)\n",
    "\n",
    "H = model.fit(x = X_train, y = Y_train, epochs=4000, batch_size = 20, \n",
    "              validation_data = (X_test, Y_test),  callbacks=[es])"
   ]
  },
  {
   "cell_type": "code",
   "execution_count": 9,
   "id": "6864106a",
   "metadata": {},
   "outputs": [
    {
     "name": "stdout",
     "output_type": "stream",
     "text": [
      "épocas = 44\n",
      "Epocas = 43\n"
     ]
    }
   ],
   "source": [
    "print(\"épocas = %d\" % len(H.history[\"val_accuracy\"]))   \n",
    "print(\"Epocas = %d\" % es.stopped_epoch)"
   ]
  },
  {
   "cell_type": "code",
   "execution_count": 10,
   "id": "e56f2f4a",
   "metadata": {},
   "outputs": [
    {
     "name": "stdout",
     "output_type": "stream",
     "text": [
      "4/4 [==============================] - 0s 5ms/step\n",
      "% aciertos X_train : 0.858\n",
      "1/1 [==============================] - 0s 32ms/step\n",
      "% aciertos X_train : 0.967\n"
     ]
    }
   ],
   "source": [
    "# predecir la salida del modelo\n",
    "Y_pred = model.predict(X_train)\n",
    "Y_pred2 = np.argmax(Y_pred,axis=1)\n",
    "\n",
    "Y_true =  np.argmax(Y_train,axis=1)\n",
    "\n",
    "print(\"%% aciertos X_train : %.3f\" % metrics.accuracy_score(Y_true, Y_pred2))\n",
    "\n",
    "Y_test_pred = model.predict(X_test)\n",
    "Y_test_pred2 = np.argmax(Y_test_pred,axis=1)\n",
    "\n",
    "Y_test_true =  np.argmax(Y_test,axis=1)\n",
    "\n",
    "print(\"%% aciertos X_train : %.3f\" % metrics.accuracy_score(Y_test_true, Y_test_pred2))"
   ]
  },
  {
   "cell_type": "code",
   "execution_count": 11,
   "id": "a2d2c239",
   "metadata": {},
   "outputs": [
    {
     "name": "stdout",
     "output_type": "stream",
     "text": [
      "Confusion matrix Training:\n",
      "              precision    recall  f1-score   support\n",
      "\n",
      "           0       0.97      1.00      0.99        39\n",
      "           1       0.96      0.59      0.73        39\n",
      "           2       0.73      0.98      0.84        42\n",
      "\n",
      "    accuracy                           0.86       120\n",
      "   macro avg       0.89      0.86      0.85       120\n",
      "weighted avg       0.88      0.86      0.85       120\n",
      "\n",
      "Confusion matrix:\n",
      "[[39  0  0]\n",
      " [ 1 23 15]\n",
      " [ 0  1 41]]\n"
     ]
    }
   ],
   "source": [
    "report = metrics.classification_report(Y_true, Y_pred2)\n",
    "print(\"Confusion matrix Training:\\n%s\" % report) \n",
    "\n",
    "MM = metrics.confusion_matrix(Y_true, Y_pred2)\n",
    "print(\"Confusion matrix:\\n%s\" % MM)"
   ]
  },
  {
   "cell_type": "code",
   "execution_count": 12,
   "id": "a323f3b3",
   "metadata": {},
   "outputs": [
    {
     "data": {
      "text/plain": [
       "<matplotlib.legend.Legend at 0x1f3527e0408>"
      ]
     },
     "execution_count": 12,
     "metadata": {},
     "output_type": "execute_result"
    },
    {
     "data": {
      "image/png": "[encoded data removed]",
      "text/plain": [
       "<Figure size 600x400 with 1 Axes>"
      ]
     },
     "metadata": {},
     "output_type": "display_data"
    }
   ],
   "source": [
    "# dibuja accuracy del progreso del entrenamiento\n",
    "accuracy = np.array(H.history[\"accuracy\"])\n",
    "val_accuracy = np.array(H.history[\"val_accuracy\"])\n",
    "\n",
    "N = np.arange(0, len(accuracy))\n",
    "plt.figure()\n",
    "#plt.plot(N, H.history[\"loss\"], label=\"train_loss\")\n",
    "#plt.plot(N, H.history[\"val_loss\"], label=\"val_loss\")\n",
    "plt.plot(N, 100*accuracy, label=\"train_acc\")\n",
    "plt.plot(N, 100*val_accuracy, label=\"val_acc\")\n",
    "plt.title(\"Efectividad de Entrenamiento\")\n",
    "plt.xlabel(\"Época #\")\n",
    "plt.ylabel(\"Efectividad\")\n",
    "plt.legend(loc=\"lower right\")"
   ]
  },
  {
   "cell_type": "code",
   "execution_count": 13,
   "id": "8d8b19b8",
   "metadata": {},
   "outputs": [
    {
     "data": {
      "text/plain": [
       "<matplotlib.legend.Legend at 0x1f354739cc8>"
      ]
     },
     "execution_count": 13,
     "metadata": {},
     "output_type": "execute_result"
    },
    {
     "data": {
      "image/png": "[encoded data removed]",
      "text/plain": [
       "<Figure size 600x400 with 1 Axes>"
      ]
     },
     "metadata": {},
     "output_type": "display_data"
    }
   ],
   "source": [
    "# dibuja accuracy del progreso del entrenamiento\n",
    "accuracy = np.array(H.history[\"loss\"])\n",
    "val_accuracy = np.array(H.history[\"val_loss\"])\n",
    "\n",
    "N = np.arange(0, len(accuracy))\n",
    "plt.figure()\n",
    "#plt.plot(N, H.history[\"loss\"], label=\"train_loss\")\n",
    "#plt.plot(N, H.history[\"val_loss\"], label=\"val_loss\")\n",
    "plt.plot(N, 100*accuracy, label=\"train_loss\")\n",
    "plt.plot(N, 100*val_accuracy, label=\"val_loss\")\n",
    "plt.title(\"Error\")\n",
    "plt.xlabel(\"Época #\")\n",
    "plt.ylabel(\"loss\")\n",
    "plt.legend(loc=\"lower left\")"
   ]
  },
  {
   "cell_type": "code",
   "execution_count": null,
   "id": "60f6237a",
   "metadata": {},
   "outputs": [],
   "source": []
  }
 ],
 "metadata": {
  "kernelspec": {
   "display_name": "Python 3 (ipykernel)",
   "language": "python",
   "name": "python3"
  },
  "language_info": {
   "codemirror_mode": {
    "name": "ipython",
    "version": 3
   },
   "file_extension": ".py",
   "mimetype": "text/x-python",
   "name": "python",
   "nbconvert_exporter": "python",
   "pygments_lexer": "ipython3",
   "version": "3.7.16"
  }
 },
 "nbformat": 4,
 "nbformat_minor": 5
}
