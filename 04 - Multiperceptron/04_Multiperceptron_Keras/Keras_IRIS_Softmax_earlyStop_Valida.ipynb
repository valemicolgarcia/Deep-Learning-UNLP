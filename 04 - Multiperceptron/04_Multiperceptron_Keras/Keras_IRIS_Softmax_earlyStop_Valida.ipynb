{
 "cells": [
  {
   "cell_type": "code",
   "execution_count": 1,
   "id": "f22abc13",
   "metadata": {},
   "outputs": [],
   "source": [
    "ColabNotebook = 'google.colab' in str(get_ipython())\n",
    "\n",
    "if ColabNotebook:\n",
    "    # monta G-drive en entorno COLAB\n",
    "    from google.colab import drive\n",
    "    drive.mount('/content/drive/')\n",
    "\n",
    "    # carpeta donde se encuentran archivos .py auxiliares\n",
    "    FUENTES_DIR = '/content/drive/MyDrive/Colab Notebooks/FUENTES/'\n",
    "    DATOS_DIR = '/content/drive/MyDrive/Colab Notebooks/DATOS/'      # carpeta donde se encuentran los datasets\n",
    "else:\n",
    "    # configuración para notebook con instalación LOCAL\n",
    "    FUENTES_DIR = '../Fuentes'         # carpeta donde se encuentran archivos .py auxiliares\n",
    "    DATOS_DIR   = '../Datos/' # carpeta donde se encuentran los datasets\n",
    "\n",
    "# agrega ruta de busqueda donde tenemos archivos .py\n",
    "import sys\n",
    "sys.path.append(FUENTES_DIR)"
   ]
  },
  {
   "cell_type": "code",
   "execution_count": 2,
   "id": "3896f775",
   "metadata": {},
   "outputs": [],
   "source": [
    "from tensorflow.keras.optimizers import SGD\n",
    "from tensorflow.keras.callbacks import EarlyStopping\n",
    "from tensorflow.keras.models import Sequential\n",
    "from tensorflow.keras.layers import Dense\n",
    "from tensorflow.keras.utils import to_categorical\n",
    "\n",
    "import matplotlib.pyplot as plt\n",
    "# Ajustar el tamaño predeterminado de las figuras\n",
    "plt.rcParams['figure.figsize'] = [6,4]\n",
    "\n",
    "import numpy as np\n",
    "from sklearn import preprocessing, metrics, model_selection \n",
    "import pandas as pd"
   ]
  },
  {
   "cell_type": "code",
   "execution_count": 3,
   "id": "50f3a17a",
   "metadata": {},
   "outputs": [],
   "source": [
    "df = pd.read_csv(DATOS_DIR + 'Iris.csv')\n",
    "\n",
    "# Tomamos todas las columnas menos la última\n",
    "X = np.array(df.iloc[:, 0:-1])\n",
    "Y = np.array(df.iloc[:,-1])\n",
    "encoder = preprocessing.LabelEncoder()\n",
    "Y = encoder.fit_transform(Y)"
   ]
  },
  {
   "cell_type": "code",
   "execution_count": 4,
   "id": "94fa46dc",
   "metadata": {},
   "outputs": [],
   "source": [
    "#--- CONJUNTOS DE ENTRENAMIENTO Y TESTEO ---\n",
    "X_train, X_test, Y_train, Y_test = model_selection.train_test_split( \\\n",
    "        X, Y, test_size=0.20) #, random_state=42)\n",
    "\n",
    "Y_trainB = to_categorical(Y_train)"
   ]
  },
  {
   "cell_type": "code",
   "execution_count": 5,
   "id": "e9d2f87f",
   "metadata": {},
   "outputs": [],
   "source": [
    "normalizarEntrada = 1  # 1 si normaliza; 0 si no\n",
    "\n",
    "if normalizarEntrada:\n",
    "    # Escala los valores entre 0 y 1\n",
    "    min_max_scaler = preprocessing.MinMaxScaler()\n",
    "    X_train = min_max_scaler.fit_transform(X_train)\n",
    "    X_test = min_max_scaler.transform(X_test)"
   ]
  },
  {
   "cell_type": "markdown",
   "id": "272c54bd",
   "metadata": {},
   "source": [
    "### Definición del modelo"
   ]
  },
  {
   "cell_type": "code",
   "execution_count": 6,
   "id": "7acf287d",
   "metadata": {},
   "outputs": [
    {
     "name": "stdout",
     "output_type": "stream",
     "text": [
      "Model: \"sequential\"\n",
      "_________________________________________________________________\n",
      " Layer (type)                Output Shape              Param #   \n",
      "=================================================================\n",
      " dense (Dense)               (None, 2)                 10        \n",
      "                                                                 \n",
      " dense_1 (Dense)             (None, 3)                 9         \n",
      "                                                                 \n",
      "=================================================================\n",
      "Total params: 19\n",
      "Trainable params: 19\n",
      "Non-trainable params: 0\n",
      "_________________________________________________________________\n"
     ]
    }
   ],
   "source": [
    "# Crear un modelo de capas secuenciales\n",
    "model=Sequential()\n",
    "\n",
    "# Agregar las capas al modelo\n",
    "model.add(Dense(2, input_shape=[4], activation='tanh'))\n",
    "model.add(Dense(3, activation='softmax'))\n",
    "\n",
    "# Imprimir un resumen del modelo\n",
    "model.summary()"
   ]
  },
  {
   "cell_type": "code",
   "execution_count": 7,
   "id": "46844e29",
   "metadata": {},
   "outputs": [],
   "source": [
    "# Configuración para entrenamiento\n",
    "#model.compile(optimizer='sgd', loss='mse', metrics='accuracy')\n",
    "model.compile(optimizer=SGD(learning_rate=0.1), loss='categorical_crossentropy', metrics='accuracy')\n"
   ]
  },
  {
   "cell_type": "code",
   "execution_count": 8,
   "id": "e4a6db43",
   "metadata": {},
   "outputs": [
    {
     "data": {
      "text/plain": [
       "(90, 4)"
      ]
     },
     "execution_count": 8,
     "metadata": {},
     "output_type": "execute_result"
    }
   ],
   "source": [
    "# Reservamos 30 muestras para validacion --\n",
    "X_val = X_train[-30:]   # últimas 30 filas de X_train\n",
    "Y_valB = Y_trainB[-30:]\n",
    "\n",
    "X_train = X_train[:-30]  # todas las filas menos las últimas 30\n",
    "Y_trainB = Y_trainB[:-30]\n",
    "\n",
    "X_train.shape"
   ]
  },
  {
   "cell_type": "code",
   "execution_count": 9,
   "id": "795c2f86",
   "metadata": {},
   "outputs": [
    {
     "name": "stdout",
     "output_type": "stream",
     "text": [
      "Epoch 1/4000\n",
      "5/5 [==============================] - 1s 59ms/step - loss: 1.2396 - accuracy: 0.0556 - val_loss: 1.1766 - val_accuracy: 0.0000e+00\n",
      "Epoch 2/4000\n",
      "5/5 [==============================] - 0s 8ms/step - loss: 1.1854 - accuracy: 0.0000e+00 - val_loss: 1.1571 - val_accuracy: 0.0000e+00\n",
      "Epoch 3/4000\n",
      "5/5 [==============================] - 0s 8ms/step - loss: 1.1533 - accuracy: 0.0000e+00 - val_loss: 1.1556 - val_accuracy: 0.1667\n",
      "Epoch 4/4000\n",
      "5/5 [==============================] - 0s 12ms/step - loss: 1.1209 - accuracy: 0.2444 - val_loss: 1.1489 - val_accuracy: 0.2000\n",
      "Epoch 5/4000\n",
      "5/5 [==============================] - 0s 9ms/step - loss: 1.1006 - accuracy: 0.3556 - val_loss: 1.1344 - val_accuracy: 0.2000\n",
      "Epoch 6/4000\n",
      "5/5 [==============================] - 0s 9ms/step - loss: 1.0873 - accuracy: 0.3556 - val_loss: 1.1219 - val_accuracy: 0.2000\n",
      "Epoch 7/4000\n",
      "5/5 [==============================] - 0s 9ms/step - loss: 1.0737 - accuracy: 0.3556 - val_loss: 1.1125 - val_accuracy: 0.2000\n",
      "Epoch 8/4000\n",
      "5/5 [==============================] - 0s 9ms/step - loss: 1.0577 - accuracy: 0.3556 - val_loss: 1.1003 - val_accuracy: 0.2000\n",
      "Epoch 9/4000\n",
      "5/5 [==============================] - 0s 9ms/step - loss: 1.0432 - accuracy: 0.3556 - val_loss: 1.0829 - val_accuracy: 0.3333\n",
      "Epoch 10/4000\n",
      "5/5 [==============================] - 0s 11ms/step - loss: 1.0293 - accuracy: 0.4778 - val_loss: 1.0714 - val_accuracy: 0.4333\n",
      "Epoch 11/4000\n",
      "5/5 [==============================] - 0s 12ms/step - loss: 1.0119 - accuracy: 0.6111 - val_loss: 1.0532 - val_accuracy: 0.6000\n",
      "Epoch 12/4000\n",
      "5/5 [==============================] - 0s 8ms/step - loss: 0.9945 - accuracy: 0.6667 - val_loss: 1.0295 - val_accuracy: 0.6000\n",
      "Epoch 13/4000\n",
      "5/5 [==============================] - 0s 14ms/step - loss: 0.9757 - accuracy: 0.6889 - val_loss: 1.0099 - val_accuracy: 0.6000\n",
      "Epoch 14/4000\n",
      "5/5 [==============================] - 0s 8ms/step - loss: 0.9562 - accuracy: 0.6889 - val_loss: 0.9995 - val_accuracy: 0.6000\n",
      "Epoch 15/4000\n",
      "5/5 [==============================] - 0s 8ms/step - loss: 0.9333 - accuracy: 0.6889 - val_loss: 0.9695 - val_accuracy: 0.6000\n",
      "Epoch 16/4000\n",
      "5/5 [==============================] - 0s 9ms/step - loss: 0.9095 - accuracy: 0.6889 - val_loss: 0.9501 - val_accuracy: 0.6000\n",
      "Epoch 17/4000\n",
      "5/5 [==============================] - 0s 11ms/step - loss: 0.8853 - accuracy: 0.6889 - val_loss: 0.9240 - val_accuracy: 0.6000\n",
      "Epoch 18/4000\n",
      "5/5 [==============================] - 0s 12ms/step - loss: 0.8595 - accuracy: 0.6889 - val_loss: 0.8950 - val_accuracy: 0.6333\n",
      "Epoch 19/4000\n",
      "5/5 [==============================] - 0s 10ms/step - loss: 0.8347 - accuracy: 0.6889 - val_loss: 0.8665 - val_accuracy: 0.6667\n",
      "Epoch 20/4000\n",
      "5/5 [==============================] - 0s 7ms/step - loss: 0.8109 - accuracy: 0.7111 - val_loss: 0.8407 - val_accuracy: 0.6667\n",
      "Epoch 21/4000\n",
      "5/5 [==============================] - 0s 7ms/step - loss: 0.7839 - accuracy: 0.6889 - val_loss: 0.8153 - val_accuracy: 0.6667\n",
      "Epoch 22/4000\n",
      "5/5 [==============================] - 0s 8ms/step - loss: 0.7596 - accuracy: 0.6889 - val_loss: 0.7963 - val_accuracy: 0.6667\n",
      "Epoch 23/4000\n",
      "5/5 [==============================] - 0s 9ms/step - loss: 0.7388 - accuracy: 0.6889 - val_loss: 0.7785 - val_accuracy: 0.6667\n",
      "Epoch 24/4000\n",
      "5/5 [==============================] - 0s 5ms/step - loss: 0.7162 - accuracy: 0.7111 - val_loss: 0.7555 - val_accuracy: 0.6667\n",
      "Epoch 25/4000\n",
      "5/5 [==============================] - 0s 9ms/step - loss: 0.6957 - accuracy: 0.7111 - val_loss: 0.7307 - val_accuracy: 0.6667\n",
      "Epoch 26/4000\n",
      "5/5 [==============================] - 0s 8ms/step - loss: 0.6758 - accuracy: 0.7222 - val_loss: 0.7058 - val_accuracy: 0.6667\n",
      "Epoch 27/4000\n",
      "5/5 [==============================] - 0s 8ms/step - loss: 0.6563 - accuracy: 0.7556 - val_loss: 0.6875 - val_accuracy: 0.6667\n",
      "Epoch 28/4000\n",
      "5/5 [==============================] - 0s 8ms/step - loss: 0.6390 - accuracy: 0.7556 - val_loss: 0.6707 - val_accuracy: 0.6667\n",
      "Epoch 29/4000\n",
      "5/5 [==============================] - 0s 9ms/step - loss: 0.6233 - accuracy: 0.7556 - val_loss: 0.6571 - val_accuracy: 0.6667\n",
      "Epoch 30/4000\n",
      "5/5 [==============================] - 0s 5ms/step - loss: 0.6085 - accuracy: 0.7556 - val_loss: 0.6392 - val_accuracy: 0.6667\n",
      "Epoch 31/4000\n",
      "5/5 [==============================] - 0s 7ms/step - loss: 0.5956 - accuracy: 0.7667 - val_loss: 0.6236 - val_accuracy: 0.7333\n",
      "Epoch 32/4000\n",
      "5/5 [==============================] - 0s 7ms/step - loss: 0.5834 - accuracy: 0.7778 - val_loss: 0.6064 - val_accuracy: 0.7333\n",
      "Epoch 33/4000\n",
      "5/5 [==============================] - 0s 7ms/step - loss: 0.5721 - accuracy: 0.8111 - val_loss: 0.5943 - val_accuracy: 0.7333\n",
      "Epoch 34/4000\n",
      "5/5 [==============================] - 0s 6ms/step - loss: 0.5594 - accuracy: 0.8111 - val_loss: 0.5862 - val_accuracy: 0.7333\n",
      "Epoch 35/4000\n",
      "5/5 [==============================] - 0s 11ms/step - loss: 0.5492 - accuracy: 0.7889 - val_loss: 0.5738 - val_accuracy: 0.7333\n",
      "Epoch 36/4000\n",
      "5/5 [==============================] - 0s 8ms/step - loss: 0.5397 - accuracy: 0.8000 - val_loss: 0.5642 - val_accuracy: 0.7667\n",
      "Epoch 37/4000\n",
      "5/5 [==============================] - 0s 7ms/step - loss: 0.5320 - accuracy: 0.8111 - val_loss: 0.5578 - val_accuracy: 0.7333\n",
      "Epoch 38/4000\n",
      "5/5 [==============================] - 0s 9ms/step - loss: 0.5225 - accuracy: 0.8000 - val_loss: 0.5458 - val_accuracy: 0.7667\n",
      "Epoch 39/4000\n",
      "5/5 [==============================] - 0s 7ms/step - loss: 0.5163 - accuracy: 0.8444 - val_loss: 0.5378 - val_accuracy: 0.7667\n",
      "Epoch 40/4000\n",
      "5/5 [==============================] - 0s 10ms/step - loss: 0.5078 - accuracy: 0.8111 - val_loss: 0.5252 - val_accuracy: 0.8000\n",
      "Epoch 41/4000\n",
      "5/5 [==============================] - 0s 5ms/step - loss: 0.5018 - accuracy: 0.8444 - val_loss: 0.5137 - val_accuracy: 0.8667\n",
      "Epoch 42/4000\n",
      "5/5 [==============================] - 0s 8ms/step - loss: 0.4953 - accuracy: 0.8556 - val_loss: 0.5107 - val_accuracy: 0.8000\n",
      "Epoch 43/4000\n",
      "5/5 [==============================] - 0s 7ms/step - loss: 0.4885 - accuracy: 0.8444 - val_loss: 0.5088 - val_accuracy: 0.7667\n",
      "Epoch 44/4000\n",
      "5/5 [==============================] - 0s 8ms/step - loss: 0.4829 - accuracy: 0.8333 - val_loss: 0.4993 - val_accuracy: 0.8000\n",
      "Epoch 45/4000\n",
      "5/5 [==============================] - 0s 5ms/step - loss: 0.4763 - accuracy: 0.8444 - val_loss: 0.4908 - val_accuracy: 0.8333\n",
      "Epoch 46/4000\n",
      "5/5 [==============================] - 0s 8ms/step - loss: 0.4711 - accuracy: 0.8556 - val_loss: 0.4881 - val_accuracy: 0.8000\n",
      "Epoch 47/4000\n",
      "5/5 [==============================] - 0s 8ms/step - loss: 0.4660 - accuracy: 0.8444 - val_loss: 0.4778 - val_accuracy: 0.8667\n",
      "Epoch 48/4000\n",
      "5/5 [==============================] - 0s 9ms/step - loss: 0.4614 - accuracy: 0.8667 - val_loss: 0.4776 - val_accuracy: 0.8000\n",
      "Epoch 49/4000\n",
      "5/5 [==============================] - 0s 7ms/step - loss: 0.4561 - accuracy: 0.8556 - val_loss: 0.4730 - val_accuracy: 0.8000\n",
      "Epoch 50/4000\n",
      "5/5 [==============================] - 0s 8ms/step - loss: 0.4519 - accuracy: 0.8444 - val_loss: 0.4635 - val_accuracy: 0.8667\n",
      "Epoch 51/4000\n",
      "5/5 [==============================] - 0s 8ms/step - loss: 0.4473 - accuracy: 0.8556 - val_loss: 0.4595 - val_accuracy: 0.8667\n",
      "Epoch 52/4000\n",
      "5/5 [==============================] - 0s 12ms/step - loss: 0.4438 - accuracy: 0.8556 - val_loss: 0.4518 - val_accuracy: 0.9000\n",
      "Epoch 53/4000\n",
      "5/5 [==============================] - 0s 12ms/step - loss: 0.4393 - accuracy: 0.9000 - val_loss: 0.4530 - val_accuracy: 0.8667\n",
      "Epoch 54/4000\n",
      "5/5 [==============================] - 0s 12ms/step - loss: 0.4353 - accuracy: 0.8556 - val_loss: 0.4458 - val_accuracy: 0.8667\n",
      "Epoch 55/4000\n",
      "5/5 [==============================] - 0s 8ms/step - loss: 0.4319 - accuracy: 0.8778 - val_loss: 0.4362 - val_accuracy: 0.9333\n",
      "Epoch 56/4000\n",
      "5/5 [==============================] - 0s 4ms/step - loss: 0.4277 - accuracy: 0.9333 - val_loss: 0.4377 - val_accuracy: 0.9000\n",
      "Epoch 57/4000\n",
      "5/5 [==============================] - 0s 9ms/step - loss: 0.4234 - accuracy: 0.8889 - val_loss: 0.4345 - val_accuracy: 0.8667\n",
      "Epoch 58/4000\n",
      "5/5 [==============================] - 0s 7ms/step - loss: 0.4195 - accuracy: 0.9000 - val_loss: 0.4307 - val_accuracy: 0.9000\n"
     ]
    },
    {
     "name": "stdout",
     "output_type": "stream",
     "text": [
      "Epoch 59/4000\n",
      "5/5 [==============================] - 0s 6ms/step - loss: 0.4151 - accuracy: 0.8889 - val_loss: 0.4242 - val_accuracy: 0.9000\n",
      "Epoch 60/4000\n",
      "5/5 [==============================] - 0s 8ms/step - loss: 0.4119 - accuracy: 0.9222 - val_loss: 0.4198 - val_accuracy: 0.9000\n",
      "Epoch 61/4000\n",
      "5/5 [==============================] - 0s 4ms/step - loss: 0.4084 - accuracy: 0.8889 - val_loss: 0.4133 - val_accuracy: 0.9333\n",
      "Epoch 62/4000\n",
      "5/5 [==============================] - 0s 8ms/step - loss: 0.4064 - accuracy: 0.9333 - val_loss: 0.4138 - val_accuracy: 0.9000\n",
      "Epoch 63/4000\n",
      "5/5 [==============================] - 0s 8ms/step - loss: 0.4025 - accuracy: 0.9222 - val_loss: 0.4171 - val_accuracy: 0.8667\n",
      "Epoch 64/4000\n",
      "5/5 [==============================] - 0s 8ms/step - loss: 0.3991 - accuracy: 0.8889 - val_loss: 0.4069 - val_accuracy: 0.9333\n",
      "Epoch 65/4000\n",
      "5/5 [==============================] - 0s 7ms/step - loss: 0.3953 - accuracy: 0.9444 - val_loss: 0.4062 - val_accuracy: 0.9000\n",
      "Epoch 66/4000\n",
      "5/5 [==============================] - 0s 8ms/step - loss: 0.3924 - accuracy: 0.9222 - val_loss: 0.4025 - val_accuracy: 0.9000\n",
      "Epoch 67/4000\n",
      "5/5 [==============================] - 0s 4ms/step - loss: 0.3889 - accuracy: 0.9222 - val_loss: 0.3952 - val_accuracy: 0.9333\n",
      "Epoch 68/4000\n",
      "5/5 [==============================] - 0s 8ms/step - loss: 0.3891 - accuracy: 0.9444 - val_loss: 0.3862 - val_accuracy: 0.9333\n",
      "Epoch 69/4000\n",
      "5/5 [==============================] - 0s 5ms/step - loss: 0.3823 - accuracy: 0.9444 - val_loss: 0.3827 - val_accuracy: 0.9333\n",
      "Epoch 70/4000\n",
      "5/5 [==============================] - 0s 5ms/step - loss: 0.3806 - accuracy: 0.9444 - val_loss: 0.3788 - val_accuracy: 0.9333\n",
      "Epoch 71/4000\n",
      "5/5 [==============================] - 0s 7ms/step - loss: 0.3761 - accuracy: 0.9556 - val_loss: 0.3794 - val_accuracy: 0.9333\n",
      "Epoch 72/4000\n",
      "5/5 [==============================] - 0s 7ms/step - loss: 0.3749 - accuracy: 0.9444 - val_loss: 0.3710 - val_accuracy: 0.9333\n",
      "Epoch 73/4000\n",
      "5/5 [==============================] - 0s 8ms/step - loss: 0.3717 - accuracy: 0.9556 - val_loss: 0.3683 - val_accuracy: 0.9333\n",
      "Epoch 74/4000\n",
      "5/5 [==============================] - 0s 8ms/step - loss: 0.3705 - accuracy: 0.9444 - val_loss: 0.3655 - val_accuracy: 0.9333\n",
      "Epoch 75/4000\n",
      "5/5 [==============================] - 0s 8ms/step - loss: 0.3647 - accuracy: 0.9667 - val_loss: 0.3621 - val_accuracy: 0.9333\n",
      "Epoch 76/4000\n",
      "5/5 [==============================] - 0s 9ms/step - loss: 0.3646 - accuracy: 0.9556 - val_loss: 0.3592 - val_accuracy: 0.9333\n",
      "Epoch 77/4000\n",
      "5/5 [==============================] - 0s 7ms/step - loss: 0.3589 - accuracy: 0.9556 - val_loss: 0.3567 - val_accuracy: 0.9333\n",
      "Epoch 78/4000\n",
      "5/5 [==============================] - 0s 8ms/step - loss: 0.3573 - accuracy: 0.9556 - val_loss: 0.3544 - val_accuracy: 0.9333\n",
      "Epoch 79/4000\n",
      "5/5 [==============================] - 0s 8ms/step - loss: 0.3544 - accuracy: 0.9556 - val_loss: 0.3543 - val_accuracy: 0.9333\n",
      "Epoch 80/4000\n",
      "5/5 [==============================] - 0s 8ms/step - loss: 0.3512 - accuracy: 0.9667 - val_loss: 0.3546 - val_accuracy: 0.9333\n",
      "Epoch 81/4000\n",
      "5/5 [==============================] - 0s 7ms/step - loss: 0.3476 - accuracy: 0.9556 - val_loss: 0.3517 - val_accuracy: 0.9333\n",
      "Epoch 82/4000\n",
      "5/5 [==============================] - 0s 8ms/step - loss: 0.3452 - accuracy: 0.9556 - val_loss: 0.3482 - val_accuracy: 0.9333\n",
      "Epoch 83/4000\n",
      "5/5 [==============================] - 0s 8ms/step - loss: 0.3436 - accuracy: 0.9556 - val_loss: 0.3449 - val_accuracy: 0.9333\n",
      "Epoch 84/4000\n",
      "5/5 [==============================] - 0s 8ms/step - loss: 0.3402 - accuracy: 0.9667 - val_loss: 0.3419 - val_accuracy: 0.9333\n",
      "Epoch 85/4000\n",
      "5/5 [==============================] - 0s 8ms/step - loss: 0.3395 - accuracy: 0.9556 - val_loss: 0.3360 - val_accuracy: 0.9333\n"
     ]
    }
   ],
   "source": [
    "es = EarlyStopping(monitor='val_accuracy', patience=30, min_delta=1e-06)\n",
    "\n",
    "H = model.fit(x = X_train, y = Y_trainB, epochs=4000, batch_size = 20, \n",
    "              validation_data = (X_val, Y_valB),  callbacks=[es])"
   ]
  },
  {
   "cell_type": "code",
   "execution_count": 10,
   "id": "6864106a",
   "metadata": {},
   "outputs": [
    {
     "name": "stdout",
     "output_type": "stream",
     "text": [
      "épocas = 85\n",
      "Epocas = 84\n"
     ]
    }
   ],
   "source": [
    "print(\"épocas = %d\" % len(H.history[\"val_accuracy\"]))   \n",
    "print(\"Epocas = %d\" % es.stopped_epoch)"
   ]
  },
  {
   "cell_type": "code",
   "execution_count": 11,
   "id": "e56f2f4a",
   "metadata": {},
   "outputs": [
    {
     "name": "stdout",
     "output_type": "stream",
     "text": [
      "3/3 [==============================] - 0s 0s/step\n",
      "% aciertos X_train : 0.978\n"
     ]
    }
   ],
   "source": [
    "# predecir la salida del modelo\n",
    "Y_pred = model.predict(X_train)\n",
    "Y_pred2 = np.argmax(Y_pred,axis=1)\n",
    "\n",
    "Y_train = Y_train[:-30]   # usar la misma cantidad que los empleados en el entrenamiento\n",
    "\n",
    "print(\"%% aciertos X_train : %.3f\" % metrics.accuracy_score(Y_train, Y_pred2))"
   ]
  },
  {
   "cell_type": "code",
   "execution_count": 12,
   "id": "a2d2c239",
   "metadata": {},
   "outputs": [
    {
     "name": "stdout",
     "output_type": "stream",
     "text": [
      "Confusion matrix Training:\n",
      "              precision    recall  f1-score   support\n",
      "\n",
      "           0       1.00      1.00      1.00        30\n",
      "           1       1.00      0.93      0.96        28\n",
      "           2       0.94      1.00      0.97        32\n",
      "\n",
      "    accuracy                           0.98        90\n",
      "   macro avg       0.98      0.98      0.98        90\n",
      "weighted avg       0.98      0.98      0.98        90\n",
      "\n",
      "Confusion matrix:\n",
      "[[30  0  0]\n",
      " [ 0 26  2]\n",
      " [ 0  0 32]]\n"
     ]
    }
   ],
   "source": [
    "report = metrics.classification_report(Y_train, Y_pred2)\n",
    "print(\"Confusion matrix Training:\\n%s\" % report) \n",
    "\n",
    "MM = metrics.confusion_matrix(Y_train, Y_pred2)\n",
    "print(\"Confusion matrix:\\n%s\" % MM)"
   ]
  },
  {
   "cell_type": "code",
   "execution_count": 13,
   "id": "a323f3b3",
   "metadata": {},
   "outputs": [
    {
     "name": "stdout",
     "output_type": "stream",
     "text": [
      "1/1 [==============================] - 0s 10ms/step\n",
      "% aciertos X_test : 0.867\n"
     ]
    }
   ],
   "source": [
    "# predecir la salida del modelo\n",
    "Y_pred = model.predict(X_test)\n",
    "Y_pred2 = np.argmax(Y_pred,axis=1)\n",
    "\n",
    "print(\"%% aciertos X_test : %.3f\" % metrics.accuracy_score(Y_test, Y_pred2))"
   ]
  },
  {
   "cell_type": "code",
   "execution_count": 14,
   "id": "ec68b8f1",
   "metadata": {},
   "outputs": [
    {
     "data": {
      "text/plain": [
       "<matplotlib.legend.Legend at 0x2e1db0ba108>"
      ]
     },
     "execution_count": 14,
     "metadata": {},
     "output_type": "execute_result"
    },
    {
     "data": {
      "image/png": "[encoded data removed]",
      "text/plain": [
       "<Figure size 600x400 with 1 Axes>"
      ]
     },
     "metadata": {},
     "output_type": "display_data"
    }
   ],
   "source": [
    "# dibuja accuracy del progreso del entrenamiento\n",
    "accuracy = np.array(H.history[\"accuracy\"])\n",
    "val_accuracy = np.array(H.history[\"val_accuracy\"])\n",
    "\n",
    "N = np.arange(0, len(accuracy))\n",
    "plt.figure()\n",
    "#plt.plot(N, H.history[\"loss\"], label=\"train_loss\")\n",
    "#plt.plot(N, H.history[\"val_loss\"], label=\"val_loss\")\n",
    "plt.plot(N, 100*accuracy, label=\"train_acc\")\n",
    "plt.plot(N, 100*val_accuracy, label=\"val_acc\")\n",
    "plt.title(\"Efectividad de Entrenamiento\")\n",
    "plt.xlabel(\"Época #\")\n",
    "plt.ylabel(\"Efectividad\")\n",
    "plt.legend(loc=\"lower right\")"
   ]
  },
  {
   "cell_type": "code",
   "execution_count": 15,
   "id": "00b60a32",
   "metadata": {},
   "outputs": [
    {
     "data": {
      "text/plain": [
       "<matplotlib.legend.Legend at 0x2e1db97adc8>"
      ]
     },
     "execution_count": 15,
     "metadata": {},
     "output_type": "execute_result"
    },
    {
     "data": {
      "image/png": "[encoded data removed]",
      "text/plain": [
       "<Figure size 600x400 with 1 Axes>"
      ]
     },
     "metadata": {},
     "output_type": "display_data"
    }
   ],
   "source": [
    "# dibuja accuracy del progreso del entrenamiento\n",
    "accuracy = np.array(H.history[\"loss\"])\n",
    "val_accuracy = np.array(H.history[\"val_loss\"])\n",
    "\n",
    "N = np.arange(0, len(accuracy))\n",
    "plt.figure()\n",
    "#plt.plot(N, H.history[\"loss\"], label=\"train_loss\")\n",
    "#plt.plot(N, H.history[\"val_loss\"], label=\"val_loss\")\n",
    "plt.plot(N, 100*accuracy, label=\"train_loss\")\n",
    "plt.plot(N, 100*val_accuracy, label=\"val_loss\")\n",
    "plt.title(\"Error\")\n",
    "plt.xlabel(\"Época #\")\n",
    "plt.ylabel(\"loss\")\n",
    "plt.legend(loc=\"lower left\")"
   ]
  }
 ],
 "metadata": {
  "kernelspec": {
   "display_name": "Python 3 (ipykernel)",
   "language": "python",
   "name": "python3"
  },
  "language_info": {
   "codemirror_mode": {
    "name": "ipython",
    "version": 3
   },
   "file_extension": ".py",
   "mimetype": "text/x-python",
   "name": "python",
   "nbconvert_exporter": "python",
   "pygments_lexer": "ipython3",
   "version": "3.7.16"
  }
 },
 "nbformat": 4,
 "nbformat_minor": 5
}
