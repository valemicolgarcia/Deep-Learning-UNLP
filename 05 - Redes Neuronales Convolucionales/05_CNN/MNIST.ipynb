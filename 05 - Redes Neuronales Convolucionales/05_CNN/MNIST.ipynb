{
 "cells": [
  {
   "cell_type": "code",
   "execution_count": 1,
   "id": "0c33ede8",
   "metadata": {},
   "outputs": [],
   "source": [
    "from tensorflow.keras.datasets import mnist\n",
    "\n",
    "from tensorflow.keras.models import Sequential\n",
    "from tensorflow.keras.utils import to_categorical\n",
    "from tensorflow.keras.callbacks import EarlyStopping\n",
    "from tensorflow.keras.layers import Dense, Flatten, Conv2D, MaxPooling2D, Input\n",
    "import numpy as np\n",
    "import matplotlib.pyplot as plt"
   ]
  },
  {
   "cell_type": "code",
   "execution_count": 2,
   "id": "8eec5cf6",
   "metadata": {},
   "outputs": [
    {
     "name": "stdout",
     "output_type": "stream",
     "text": [
      "(60000, 28, 28)\n",
      "(60000,)\n"
     ]
    }
   ],
   "source": [
    "input_shape = (28, 28, 1)\n",
    "\n",
    "(X_train, Y_train), (X_test, Y_test) = mnist.load_data()\n",
    "print(X_train.shape)\n",
    "print(Y_train.shape)"
   ]
  },
  {
   "cell_type": "code",
   "execution_count": 3,
   "id": "d91357e9",
   "metadata": {},
   "outputs": [
    {
     "name": "stdout",
     "output_type": "stream",
     "text": [
      "(60000, 28, 28, 1)\n",
      "(60000, 10)\n",
      "[[[  0   0   0   0   0   0   0   0   0   0   0   0   0   0   0   0   0\n",
      "     0   0   0   0   0   0   0   0   0   0   0]\n",
      "  [  0   0   0   0   0   0   0   0   0   0   0   0   0   0   0   0   0\n",
      "     0   0   0   0   0   0   0   0   0   0   0]\n",
      "  [  0   0   0   0   0   0   0   0   0   0   0   0   0   0   0   0   0\n",
      "     0   0   0   0   0   0   0   0   0   0   0]\n",
      "  [  0   0   0   0   0   0   0   0   0   0   0   0   0   0   0   0   0\n",
      "     0   0   0   0   0   0   0   0   0   0   0]\n",
      "  [  0   0   0   0   0   0   0   0   0   0   0   0   0   0   0   0   0\n",
      "     0   0   0   0   0   0  55 136   0   0   0]\n",
      "  [  0   0   0   0   0   0   0   0   0   0   0   0   0   0   0   0   0\n",
      "     0   0   0   0   0   0 172 253   0   0   0]\n",
      "  [  0   0   0   0   0   0   0   0   0   0   0   0   0   0   0   0   0\n",
      "     0   0   0   0   0  18 226 253   0   0   0]\n",
      "  [  0   0   0   0   0   0   0  49  18   0   0   0   0   0   0   0   0\n",
      "     0   0   0   0   0 171 253 253   0   0   0]\n",
      "  [  0   0   0   0   0   0  30 238 219  80   0   0   0   0   0   0   0\n",
      "     0   0   0   0  23 219 253 212   0   0   0]\n",
      "  [  0   0   0   0   0   0  36 253 253 156  14   0   0   0   0   0   0\n",
      "     0   0   0   0  66 253 253 135   0   0   0]\n",
      "  [  0   0   0   0   0   0  94 253 253 107   1   0   0   0   0   0   0\n",
      "     0   0   0  24 213 253 253 132   0   0   0]\n",
      "  [  0   0   0   0   0   0 154 253 253 253 154 139  11   0   0   0   0\n",
      "     0   0   0 114 253 253 244  16   0   0   0]\n",
      "  [  0   0   0   0   0   3 170 253 253 253 253 253 190  35   0   0   0\n",
      "     0   0  39 221 253 253 133   0   0   0   0]\n",
      "  [  0   0   0   0   0  18 253 253 253 205  90 190 253 241  81   0   0\n",
      "     0   0 148 253 253 195  11   0   0   0   0]\n",
      "  [  0   0   0   0   0  18 253 253 198  11   0   2  70 225 240  45   0\n",
      "     0  46 229 253 253  80   0   0   0   0   0]\n",
      "  [  0   0   0   0   0  18 253 253 182   0   0   0   0 160 253 186  16\n",
      "     0 130 253 253 198   9   0   0   0   0   0]\n",
      "  [  0   0   0   0   0 126 253 253 247  43   0   0   0 108 253 253  93\n",
      "     0 183 253 253  81   0   0   0   0   0   0]\n",
      "  [  0   0   0   0   0 136 253 251 241 154   0   0   0   1 119 253 252\n",
      "   249 253 253 201   2   0   0   0   0   0   0]\n",
      "  [  0   0   0   0   0 175 225  93   0   0   0   0   0   0  25 150 253\n",
      "   253 253 250  78   0   0   0   0   0   0   0]\n",
      "  [  0   0   0   0   0  26 172  82   0   0   0   0   0   0   0  27 187\n",
      "   249 207 182   0   0   0   0   0   0   0   0]\n",
      "  [  0   0   0   0   0 166 253  82   0   0   0   0   0   0   0   0   0\n",
      "    64   2   0   0   0   0   0   0   0   0   0]\n",
      "  [  0   0   0   0   0 255 242  56   0   0   0   0   0   0   0   0   0\n",
      "     0   0   0   0   0   0   0   0   0   0   0]\n",
      "  [  0   0   0   0   0 247 195  39   0   0   0   0   0   0   0   0   0\n",
      "     0   0   0   0   0   0   0   0   0   0   0]\n",
      "  [  0   0   0   0   0 127  64   0   0   0   0   0   0   0   0   0   0\n",
      "     0   0   0   0   0   0   0   0   0   0   0]\n",
      "  [  0   0   0   0   0   0   0   0   0   0   0   0   0   0   0   0   0\n",
      "     0   0   0   0   0   0   0   0   0   0   0]\n",
      "  [  0   0   0   0   0   0   0   0   0   0   0   0   0   0   0   0   0\n",
      "     0   0   0   0   0   0   0   0   0   0   0]\n",
      "  [  0   0   0   0   0   0   0   0   0   0   0   0   0   0   0   0   0\n",
      "     0   0   0   0   0   0   0   0   0   0   0]\n",
      "  [  0   0   0   0   0   0   0   0   0   0   0   0   0   0   0   0   0\n",
      "     0   0   0   0   0   0   0   0   0   0   0]]]\n",
      "[0. 0. 0. 0. 0. 1. 0. 0. 0. 0.]\n"
     ]
    }
   ],
   "source": [
    "# Make sure images have shape (28, 28, 1)\n",
    "X_train = np.expand_dims(X_train, -1)\n",
    "X_test = np.expand_dims(X_test, -1)\n",
    "\n",
    "Y_train = to_categorical(Y_train, num_classes = 10)\n",
    "Y_test = to_categorical (Y_test, num_classes = 10)\n",
    "\n",
    "print(X_train.shape)\n",
    "print(Y_train.shape)\n",
    "\n",
    "print(X_train[0].T)\n",
    "print(Y_train[0])"
   ]
  },
  {
   "cell_type": "code",
   "execution_count": 11,
   "id": "bcd161c6",
   "metadata": {},
   "outputs": [
    {
     "data": {
      "image/png": "[encoded data removed]",
      "text/plain": [
       "<Figure size 640x480 with 1 Axes>"
      ]
     },
     "metadata": {},
     "output_type": "display_data"
    }
   ],
   "source": [
    "plt.figure()         \n",
    "plt.imshow (X_train[0],cmap='gray')\n",
    "plt.show()"
   ]
  },
  {
   "cell_type": "code",
   "execution_count": 5,
   "id": "c9a49c66",
   "metadata": {},
   "outputs": [],
   "source": [
    "for i in range(X_train.shape[0]):\n",
    "    X_train[i] = (X_train[i]-X_train[i].mean())/X_train[i].std()\n",
    "    \n",
    "for i in range(X_test.shape[0]):\n",
    "    X_test[i] = (X_test[i]-X_test[i].mean())/X_test[i].std()"
   ]
  }
 ],
 "metadata": {
  "kernelspec": {
   "display_name": "Python 3 (ipykernel)",
   "language": "python",
   "name": "python3"
  },
  "language_info": {
   "codemirror_mode": {
    "name": "ipython",
    "version": 3
   },
   "file_extension": ".py",
   "mimetype": "text/x-python",
   "name": "python",
   "nbconvert_exporter": "python",
   "pygments_lexer": "ipython3",
   "version": "3.7.13"
  }
 },
 "nbformat": 4,
 "nbformat_minor": 5
}
