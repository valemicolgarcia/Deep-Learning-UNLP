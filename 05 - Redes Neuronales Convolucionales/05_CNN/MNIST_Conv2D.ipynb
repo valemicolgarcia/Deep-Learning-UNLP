{
 "cells": [
  {
   "cell_type": "code",
   "execution_count": 1,
   "id": "0c33ede8",
   "metadata": {},
   "outputs": [],
   "source": [
    "from tensorflow.keras.datasets import mnist\n",
    "\n",
    "from tensorflow.keras.models import Sequential\n",
    "from tensorflow.keras.utils import to_categorical\n",
    "from tensorflow.keras.callbacks import EarlyStopping\n",
    "from tensorflow.keras.layers import Dense, Flatten, Conv2D, MaxPooling2D, Input\n",
    "import numpy as np\n",
    "from sklearn import metrics\n",
    "import matplotlib.pyplot as plt"
   ]
  },
  {
   "cell_type": "code",
   "execution_count": 2,
   "id": "8eec5cf6",
   "metadata": {},
   "outputs": [],
   "source": [
    "input_shape = (28, 28, 1)\n",
    "\n",
    "(X_train, Y_train), (X_test, Y_test) = mnist.load_data()\n",
    "\n",
    "# Make sure images have shape (28, 28, 1)\n",
    "X_train = np.expand_dims(X_train, -1)\n",
    "X_test = np.expand_dims(X_test, -1)\n",
    "\n",
    "Y_train = to_categorical(Y_train, num_classes = 10)\n",
    "Y_test = to_categorical (Y_test, num_classes = 10)\n",
    "\n",
    "for i in range(X_train.shape[0]):\n",
    "    X_train[i] = (X_train[i]-X_train[i].mean())/X_train[i].std()\n",
    "    \n",
    "for i in range(X_test.shape[0]):\n",
    "    X_test[i] = (X_test[i]-X_test[i].mean())/X_test[i].std()\n"
   ]
  },
  {
   "cell_type": "code",
   "execution_count": 3,
   "id": "593c449a",
   "metadata": {},
   "outputs": [
    {
     "name": "stdout",
     "output_type": "stream",
     "text": [
      "Model: \"sequential\"\n",
      "_________________________________________________________________\n",
      " Layer (type)                Output Shape              Param #   \n",
      "=================================================================\n",
      " conv2d (Conv2D)             (None, 26, 26, 4)         40        \n",
      "                                                                 \n",
      " flatten (Flatten)           (None, 2704)              0         \n",
      "                                                                 \n",
      " dense (Dense)               (None, 10)                27050     \n",
      "                                                                 \n",
      "=================================================================\n",
      "Total params: 27,090\n",
      "Trainable params: 27,090\n",
      "Non-trainable params: 0\n",
      "_________________________________________________________________\n"
     ]
    }
   ],
   "source": [
    "# --- hiperparámetros ---\n",
    "F = 4   #-- cantidad de filtros o de mapas de características --\n",
    "K = 3   #-- tamaño del kernel o máscara ---\n",
    "S = 1   #-- stride ---\n",
    "P = 1   #-- padding ---   \n",
    "FUN = \"relu\"   #-- función de activación de la capa de convolucion --\n",
    "PS = 2  #-- tamaño para la ventana de pooling  --\n",
    "\n",
    "model = Sequential()\n",
    "model.add(Input(shape=(28, 28, 1)))\n",
    "model.add(Conv2D(F, kernel_size=K, strides=(S,S), activation=FUN))\n",
    "#model.add(MaxPooling2D(pool_size=(PS,PS)))\n",
    "model.add(Flatten())\n",
    "model.add(Dense(10, activation='softmax'))\n",
    "model.summary()"
   ]
  },
  {
   "cell_type": "code",
   "execution_count": 4,
   "id": "98044039",
   "metadata": {},
   "outputs": [],
   "source": [
    "model.compile('SGD', loss = 'categorical_crossentropy', metrics = ['accuracy'])"
   ]
  },
  {
   "cell_type": "code",
   "execution_count": 5,
   "id": "1b6a312b",
   "metadata": {},
   "outputs": [
    {
     "name": "stdout",
     "output_type": "stream",
     "text": [
      "Epoch 1/4000\n",
      "469/469 [==============================] - 12s 25ms/step - loss: 0.5884 - accuracy: 0.8249 - val_loss: 0.3406 - val_accuracy: 0.9045\n",
      "Epoch 2/4000\n",
      "469/469 [==============================] - 14s 30ms/step - loss: 0.3386 - accuracy: 0.9020 - val_loss: 0.3078 - val_accuracy: 0.9129\n",
      "Epoch 3/4000\n",
      "469/469 [==============================] - 14s 29ms/step - loss: 0.3161 - accuracy: 0.9101 - val_loss: 0.2947 - val_accuracy: 0.9158\n",
      "Epoch 4/4000\n",
      "469/469 [==============================] - 13s 28ms/step - loss: 0.3044 - accuracy: 0.9138 - val_loss: 0.2902 - val_accuracy: 0.9165\n",
      "Epoch 5/4000\n",
      "469/469 [==============================] - 13s 27ms/step - loss: 0.2935 - accuracy: 0.9164 - val_loss: 0.2771 - val_accuracy: 0.9204\n",
      "Epoch 6/4000\n",
      "469/469 [==============================] - 11s 23ms/step - loss: 0.2798 - accuracy: 0.9213 - val_loss: 0.2724 - val_accuracy: 0.9203\n",
      "Epoch 7/4000\n",
      "469/469 [==============================] - 11s 24ms/step - loss: 0.2648 - accuracy: 0.9261 - val_loss: 0.2535 - val_accuracy: 0.9278\n",
      "Epoch 8/4000\n",
      "469/469 [==============================] - 11s 23ms/step - loss: 0.2492 - accuracy: 0.9304 - val_loss: 0.2442 - val_accuracy: 0.9306\n",
      "Epoch 9/4000\n",
      "469/469 [==============================] - 15s 32ms/step - loss: 0.2317 - accuracy: 0.9356 - val_loss: 0.2247 - val_accuracy: 0.9364\n",
      "Epoch 10/4000\n",
      "469/469 [==============================] - 16s 35ms/step - loss: 0.2146 - accuracy: 0.9412 - val_loss: 0.2025 - val_accuracy: 0.9445\n",
      "Epoch 11/4000\n",
      "469/469 [==============================] - 20s 43ms/step - loss: 0.1982 - accuracy: 0.9455 - val_loss: 0.1934 - val_accuracy: 0.9464\n",
      "Epoch 12/4000\n",
      "469/469 [==============================] - 20s 42ms/step - loss: 0.1833 - accuracy: 0.9498 - val_loss: 0.1865 - val_accuracy: 0.9489\n",
      "Epoch 13/4000\n",
      "469/469 [==============================] - 14s 30ms/step - loss: 0.1693 - accuracy: 0.9538 - val_loss: 0.1646 - val_accuracy: 0.9556\n",
      "Epoch 14/4000\n",
      "469/469 [==============================] - 12s 25ms/step - loss: 0.1580 - accuracy: 0.9572 - val_loss: 0.1552 - val_accuracy: 0.9565\n",
      "Epoch 15/4000\n",
      "469/469 [==============================] - 15s 31ms/step - loss: 0.1480 - accuracy: 0.9602 - val_loss: 0.1488 - val_accuracy: 0.9595\n",
      "Epoch 16/4000\n",
      "469/469 [==============================] - 18s 38ms/step - loss: 0.1392 - accuracy: 0.9625 - val_loss: 0.1476 - val_accuracy: 0.9595\n",
      "Epoch 17/4000\n",
      "469/469 [==============================] - 12s 25ms/step - loss: 0.1320 - accuracy: 0.9644 - val_loss: 0.1362 - val_accuracy: 0.9612\n",
      "Epoch 18/4000\n",
      "469/469 [==============================] - 15s 32ms/step - loss: 0.1257 - accuracy: 0.9660 - val_loss: 0.1284 - val_accuracy: 0.9639\n",
      "Epoch 19/4000\n",
      "469/469 [==============================] - 15s 32ms/step - loss: 0.1201 - accuracy: 0.9675 - val_loss: 0.1274 - val_accuracy: 0.9652\n",
      "Epoch 20/4000\n",
      "469/469 [==============================] - 15s 33ms/step - loss: 0.1155 - accuracy: 0.9686 - val_loss: 0.1230 - val_accuracy: 0.9657\n",
      "Epoch 21/4000\n",
      "469/469 [==============================] - 10s 22ms/step - loss: 0.1110 - accuracy: 0.9697 - val_loss: 0.1212 - val_accuracy: 0.9665\n",
      "Epoch 22/4000\n",
      "469/469 [==============================] - 14s 30ms/step - loss: 0.1074 - accuracy: 0.9707 - val_loss: 0.1160 - val_accuracy: 0.9680\n",
      "Epoch 23/4000\n",
      "469/469 [==============================] - 12s 26ms/step - loss: 0.1041 - accuracy: 0.9718 - val_loss: 0.1128 - val_accuracy: 0.9689\n",
      "Epoch 24/4000\n",
      "469/469 [==============================] - 14s 30ms/step - loss: 0.1009 - accuracy: 0.9722 - val_loss: 0.1106 - val_accuracy: 0.9687\n",
      "Epoch 25/4000\n",
      "469/469 [==============================] - 13s 27ms/step - loss: 0.0982 - accuracy: 0.9726 - val_loss: 0.1087 - val_accuracy: 0.9690\n",
      "Epocas = 24\n"
     ]
    }
   ],
   "source": [
    "LOTES = 128\n",
    "EPOCAS  = 4000\n",
    "\n",
    "# entrena el modelo y guarda la historia del progreso    \n",
    "es = EarlyStopping(monitor='val_accuracy', patience=3, min_delta=0.001)\n",
    "H = model.fit(x = X_train, y = Y_train, batch_size = LOTES, validation_data = (X_test, Y_test), epochs=EPOCAS, callbacks=[es])\n",
    "\n",
    "# H = model.fit(x = X_train, y = Y_train, batch_size = LOTES, epochs = EPOCAS, validation_data = (X_test, Y_test))\n",
    "\n",
    "print(\"Epocas = %d\" % es.stopped_epoch)\n"
   ]
  },
  {
   "cell_type": "code",
   "execution_count": 6,
   "id": "0b1ef05b",
   "metadata": {},
   "outputs": [
    {
     "data": {
      "text/plain": [
       "<matplotlib.legend.Legend at 0x1e7c94ccc48>"
      ]
     },
     "execution_count": 6,
     "metadata": {},
     "output_type": "execute_result"
    },
    {
     "data": {
      "image/png": "[encoded data removed]",
      "text/plain": [
       "<Figure size 640x480 with 1 Axes>"
      ]
     },
     "metadata": {},
     "output_type": "display_data"
    }
   ],
   "source": [
    "# dibuja accuracy del progreso del entrenamiento\n",
    "\n",
    "# N = np.arange(0, EPOCAS)\n",
    "accuracy = np.array(H.history[\"accuracy\"])\n",
    "val_accuracy = np.array(H.history[\"val_accuracy\"])\n",
    "\n",
    "N = np.arange(0, len(accuracy))\n",
    "plt.figure()\n",
    "#plt.plot(N, H.history[\"loss\"], label=\"train_loss\")\n",
    "#plt.plot(N, H.history[\"val_loss\"], label=\"val_loss\")\n",
    "plt.plot(N, 100*accuracy, label=\"train_acc\")\n",
    "plt.plot(N, 100*val_accuracy, label=\"val_acc\")\n",
    "plt.title(\"Efectividad de Entrenamiento\")\n",
    "plt.xlabel(\"Época #\")\n",
    "plt.ylabel(\"Efectividad\")\n",
    "plt.legend(loc=\"lower right\")"
   ]
  },
  {
   "cell_type": "code",
   "execution_count": 7,
   "id": "d7eb2d8e",
   "metadata": {},
   "outputs": [
    {
     "name": "stdout",
     "output_type": "stream",
     "text": [
      "79/79 [==============================] - 0s 2ms/step - loss: 0.1087 - accuracy: 0.9690\n",
      "\n",
      "Efectividad del modelo con datos de validación:  96.90%\n"
     ]
    }
   ],
   "source": [
    "# evalua el modelo con los datos de validacion\n",
    "pred = model.evaluate(X_test, Y_test, batch_size = LOTES)\n",
    "\n",
    "print(\"\\nEfectividad del modelo con datos de validación: %6.2f%%\" % (pred[1]*100))"
   ]
  },
  {
   "cell_type": "code",
   "execution_count": 8,
   "id": "4f2bcc9d",
   "metadata": {},
   "outputs": [
    {
     "name": "stdout",
     "output_type": "stream",
     "text": [
      "313/313 [==============================] - 1s 1ms/step\n",
      "Classification report - Training:\n",
      "              precision    recall  f1-score   support\n",
      "\n",
      "           0       0.97      0.99      0.98       980\n",
      "           1       0.98      0.99      0.98      1135\n",
      "           2       0.96      0.96      0.96      1032\n",
      "           3       0.97      0.97      0.97      1010\n",
      "           4       0.98      0.98      0.98       982\n",
      "           5       0.96      0.98      0.97       892\n",
      "           6       0.98      0.96      0.97       958\n",
      "           7       0.96      0.96      0.96      1028\n",
      "           8       0.95      0.96      0.96       974\n",
      "           9       0.98      0.95      0.96      1009\n",
      "\n",
      "    accuracy                           0.97     10000\n",
      "   macro avg       0.97      0.97      0.97     10000\n",
      "weighted avg       0.97      0.97      0.97     10000\n",
      "\n",
      "Confusion matrix:\n",
      "[[ 968    0    1    0    0    5    2    2    2    0]\n",
      " [   0 1123    2    4    0    0    2    2    2    0]\n",
      " [   2    9  987    5    6    0    2    6   15    0]\n",
      " [   2    0    7  979    0    7    0    2   11    2]\n",
      " [   1    1    4    0  959    0    3    1    5    8]\n",
      " [   4    1    0    9    0  870    4    1    2    1]\n",
      " [   9    3    2    0    3   11  924    1    5    0]\n",
      " [   1    7   17    4    1    1    0  983    4   10]\n",
      " [   5    1    8    5    1    5    3    8  938    0]\n",
      " [   4    5    1    3    7   11    0   15    4  959]]\n"
     ]
    }
   ],
   "source": [
    "Y_pred = model.predict(X_test)\n",
    "Y_pred_nro = np.argmax(Y_pred, axis=1)    # conversión a entero\n",
    "Y_true = np.argmax(Y_test, axis=1)\n",
    "\n",
    "report = metrics.classification_report(Y_true,Y_pred_nro)\n",
    "print(\"Classification report - Training:\\n%s\" % report) \n",
    "\n",
    "cm = metrics.confusion_matrix(Y_true, Y_pred_nro)\n",
    "print(\"Confusion matrix:\\n%s\" % cm) "
   ]
  }
 ],
 "metadata": {
  "kernelspec": {
   "display_name": "Python 3 (ipykernel)",
   "language": "python",
   "name": "python3"
  },
  "language_info": {
   "codemirror_mode": {
    "name": "ipython",
    "version": 3
   },
   "file_extension": ".py",
   "mimetype": "text/x-python",
   "name": "python",
   "nbconvert_exporter": "python",
   "pygments_lexer": "ipython3",
   "version": "3.7.11"
  }
 },
 "nbformat": 4,
 "nbformat_minor": 5
}
