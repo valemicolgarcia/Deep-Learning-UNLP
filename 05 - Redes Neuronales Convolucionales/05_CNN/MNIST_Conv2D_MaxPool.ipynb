{
 "cells": [
  {
   "cell_type": "code",
   "execution_count": 1,
   "id": "0c33ede8",
   "metadata": {
    "executionInfo": {
     "elapsed": 3142,
     "status": "ok",
     "timestamp": 1700870053718,
     "user": {
      "displayName": "Laura Lanzarini",
      "userId": "09081598862758330982"
     },
     "user_tz": 180
    },
    "id": "0c33ede8"
   },
   "outputs": [],
   "source": [
    "from tensorflow.keras.datasets import mnist\n",
    "\n",
    "from tensorflow.keras.models import Sequential\n",
    "from tensorflow.keras.utils import to_categorical\n",
    "from tensorflow.keras.callbacks import EarlyStopping\n",
    "from tensorflow.keras.layers import Dense, Flatten, Conv2D, MaxPooling2D, Input\n",
    "\n",
    "import numpy as np\n",
    "#import time\n",
    "import matplotlib.pyplot as plt"
   ]
  },
  {
   "cell_type": "code",
   "execution_count": 2,
   "id": "8eec5cf6",
   "metadata": {
    "colab": {
     "base_uri": "https://localhost:8080/"
    },
    "executionInfo": {
     "elapsed": 9274,
     "status": "ok",
     "timestamp": 1700870062964,
     "user": {
      "displayName": "Laura Lanzarini",
      "userId": "09081598862758330982"
     },
     "user_tz": 180
    },
    "id": "8eec5cf6",
    "outputId": "c13884e4-6d29-4591-9cc2-3f18f93ae830"
   },
   "outputs": [],
   "source": [
    "input_shape = (28, 28, 1)\n",
    "\n",
    "(X_train, Y_train), (X_test, Y_test) = mnist.load_data()\n",
    "\n",
    "# Convertir el formato de las imágenes a (28, 28, 1)\n",
    "X_train = np.expand_dims(X_train, -1)\n",
    "X_test = np.expand_dims(X_test, -1)\n",
    "\n",
    "Y_trainB = to_categorical(Y_train, num_classes = 10)\n",
    "Y_testB = to_categorical (Y_test, num_classes = 10)\n",
    "\n",
    "for i in range(X_train.shape[0]):\n",
    "    X_train[i] = (X_train[i]-X_train[i].mean())/X_train[i].std()\n",
    "\n",
    "for i in range(X_test.shape[0]):\n",
    "    X_test[i] = (X_test[i]-X_test[i].mean())/X_test[i].std()\n"
   ]
  },
  {
   "cell_type": "code",
   "execution_count": 3,
   "id": "e78ebac6",
   "metadata": {
    "colab": {
     "base_uri": "https://localhost:8080/",
     "height": 452
    },
    "executionInfo": {
     "elapsed": 538,
     "status": "ok",
     "timestamp": 1700870063479,
     "user": {
      "displayName": "Laura Lanzarini",
      "userId": "09081598862758330982"
     },
     "user_tz": 180
    },
    "id": "e78ebac6",
    "outputId": "1540fa17-9a28-4948-a57e-64b9f5e9cfcc"
   },
   "outputs": [
    {
     "data": {
      "image/png": "[encoded data removed]",
      "text/plain": [
       "<Figure size 640x480 with 1 Axes>"
      ]
     },
     "metadata": {},
     "output_type": "display_data"
    }
   ],
   "source": [
    "indice_imagen=1\n",
    "imagen = X_train[indice_imagen]\n",
    "etiqueta = Y_train[indice_imagen]\n",
    "plt.imshow(imagen, cmap='gray')\n",
    "plt.title(f'Etiqueta: {etiqueta}')\n",
    "plt.show()"
   ]
  },
  {
   "cell_type": "code",
   "execution_count": 4,
   "id": "593c449a",
   "metadata": {
    "colab": {
     "base_uri": "https://localhost:8080/"
    },
    "executionInfo": {
     "elapsed": 3964,
     "status": "ok",
     "timestamp": 1700870067418,
     "user": {
      "displayName": "Laura Lanzarini",
      "userId": "09081598862758330982"
     },
     "user_tz": 180
    },
    "id": "593c449a",
    "outputId": "625dd404-1f20-482d-e994-c6063a33a4dd"
   },
   "outputs": [
    {
     "name": "stdout",
     "output_type": "stream",
     "text": [
      "Model: \"sequential\"\n",
      "_________________________________________________________________\n",
      " Layer (type)                Output Shape              Param #   \n",
      "=================================================================\n",
      " conv2d (Conv2D)             (None, 26, 26, 4)         40        \n",
      "                                                                 \n",
      " max_pooling2d (MaxPooling2D  (None, 13, 13, 4)        0         \n",
      " )                                                               \n",
      "                                                                 \n",
      " flatten (Flatten)           (None, 676)               0         \n",
      "                                                                 \n",
      " dense (Dense)               (None, 10)                6770      \n",
      "                                                                 \n",
      "=================================================================\n",
      "Total params: 6,810\n",
      "Trainable params: 6,810\n",
      "Non-trainable params: 0\n",
      "_________________________________________________________________\n"
     ]
    }
   ],
   "source": [
    "# --- hiperparámetros ---\n",
    "F = 4   #-- cantidad de filtros o de mapas de características --\n",
    "K = 3   #-- tamaño del kernel o máscara ---\n",
    "S = 1   #-- stride ---\n",
    "P = 1   #-- padding ---\n",
    "FUN = \"relu\"   #-- función de activación de la capa de convolucion --\n",
    "PS = 2  #-- tamaño para la ventana de pooling  --\n",
    "\n",
    "model = Sequential()\n",
    "model.add(Input(shape=(28, 28, 1)))\n",
    "model.add(Conv2D(F, kernel_size=K, strides=(S,S), activation=FUN))\n",
    "model.add(MaxPooling2D(pool_size=(PS,PS)))\n",
    "model.add(Flatten())\n",
    "model.add(Dense(10, activation='softmax'))\n",
    "model.summary()"
   ]
  },
  {
   "cell_type": "code",
   "execution_count": 5,
   "id": "98044039",
   "metadata": {
    "executionInfo": {
     "elapsed": 15,
     "status": "ok",
     "timestamp": 1700870067419,
     "user": {
      "displayName": "Laura Lanzarini",
      "userId": "09081598862758330982"
     },
     "user_tz": 180
    },
    "id": "98044039"
   },
   "outputs": [],
   "source": [
    "model.compile('SGD', loss = 'categorical_crossentropy', metrics = ['accuracy'])"
   ]
  },
  {
   "cell_type": "code",
   "execution_count": 6,
   "id": "1b6a312b",
   "metadata": {
    "colab": {
     "base_uri": "https://localhost:8080/"
    },
    "executionInfo": {
     "elapsed": 76679,
     "status": "ok",
     "timestamp": 1700870144086,
     "user": {
      "displayName": "Laura Lanzarini",
      "userId": "09081598862758330982"
     },
     "user_tz": 180
    },
    "id": "1b6a312b",
    "outputId": "c39870a4-941e-4d38-d1b6-b7dae73187bd"
   },
   "outputs": [
    {
     "name": "stdout",
     "output_type": "stream",
     "text": [
      "Epoch 1/4000\n",
      "240/240 [==============================] - 7s 28ms/step - loss: 1.1272 - accuracy: 0.6557 - val_loss: 0.4788 - val_accuracy: 0.8620\n",
      "Epoch 2/4000\n",
      "240/240 [==============================] - 6s 25ms/step - loss: 0.4292 - accuracy: 0.8756 - val_loss: 0.3686 - val_accuracy: 0.8974\n",
      "Epoch 3/4000\n",
      "240/240 [==============================] - 6s 26ms/step - loss: 0.3730 - accuracy: 0.8918 - val_loss: 0.3398 - val_accuracy: 0.9042\n",
      "Epoch 4/4000\n",
      "240/240 [==============================] - 6s 26ms/step - loss: 0.3494 - accuracy: 0.8990 - val_loss: 0.3234 - val_accuracy: 0.9078\n",
      "Epoch 5/4000\n",
      "240/240 [==============================] - 6s 26ms/step - loss: 0.3355 - accuracy: 0.9041 - val_loss: 0.3115 - val_accuracy: 0.9107\n",
      "Epoch 6/4000\n",
      "240/240 [==============================] - 6s 26ms/step - loss: 0.3252 - accuracy: 0.9071 - val_loss: 0.3032 - val_accuracy: 0.9136\n",
      "Epoch 7/4000\n",
      "240/240 [==============================] - 6s 25ms/step - loss: 0.3166 - accuracy: 0.9091 - val_loss: 0.2980 - val_accuracy: 0.9168\n",
      "Epoch 8/4000\n",
      "240/240 [==============================] - 6s 25ms/step - loss: 0.3090 - accuracy: 0.9126 - val_loss: 0.2918 - val_accuracy: 0.9176\n",
      "Epoch 9/4000\n",
      "240/240 [==============================] - 6s 26ms/step - loss: 0.3016 - accuracy: 0.9142 - val_loss: 0.2838 - val_accuracy: 0.9209\n",
      "Epoch 10/4000\n",
      "240/240 [==============================] - 6s 25ms/step - loss: 0.2949 - accuracy: 0.9161 - val_loss: 0.2765 - val_accuracy: 0.9234\n",
      "Epoch 11/4000\n",
      "240/240 [==============================] - 6s 26ms/step - loss: 0.2878 - accuracy: 0.9179 - val_loss: 0.2701 - val_accuracy: 0.9256\n",
      "Epoch 12/4000\n",
      "240/240 [==============================] - 6s 26ms/step - loss: 0.2806 - accuracy: 0.9203 - val_loss: 0.2640 - val_accuracy: 0.9259\n",
      "Epoch 13/4000\n",
      "240/240 [==============================] - 6s 26ms/step - loss: 0.2731 - accuracy: 0.9230 - val_loss: 0.2578 - val_accuracy: 0.9287\n",
      "Epoch 14/4000\n",
      "240/240 [==============================] - 6s 26ms/step - loss: 0.2659 - accuracy: 0.9245 - val_loss: 0.2501 - val_accuracy: 0.9315\n",
      "Epoch 15/4000\n",
      "240/240 [==============================] - 6s 25ms/step - loss: 0.2583 - accuracy: 0.9269 - val_loss: 0.2467 - val_accuracy: 0.9311\n",
      "Epoch 16/4000\n",
      "240/240 [==============================] - 6s 27ms/step - loss: 0.2516 - accuracy: 0.9294 - val_loss: 0.2371 - val_accuracy: 0.9357\n",
      "Epoch 17/4000\n",
      "240/240 [==============================] - 6s 25ms/step - loss: 0.2446 - accuracy: 0.9316 - val_loss: 0.2308 - val_accuracy: 0.9365\n",
      "Epoch 18/4000\n",
      "240/240 [==============================] - 6s 26ms/step - loss: 0.2380 - accuracy: 0.9335 - val_loss: 0.2288 - val_accuracy: 0.9358\n",
      "Epoch 19/4000\n",
      "240/240 [==============================] - 6s 26ms/step - loss: 0.2315 - accuracy: 0.9349 - val_loss: 0.2190 - val_accuracy: 0.9397\n",
      "Epoch 20/4000\n",
      "240/240 [==============================] - 6s 25ms/step - loss: 0.2257 - accuracy: 0.9366 - val_loss: 0.2133 - val_accuracy: 0.9397\n",
      "Epoch 21/4000\n",
      "240/240 [==============================] - 6s 26ms/step - loss: 0.2201 - accuracy: 0.9388 - val_loss: 0.2079 - val_accuracy: 0.9418\n",
      "Epoch 22/4000\n",
      "240/240 [==============================] - 6s 26ms/step - loss: 0.2144 - accuracy: 0.9398 - val_loss: 0.2049 - val_accuracy: 0.9424\n",
      "Epoch 23/4000\n",
      "240/240 [==============================] - 6s 26ms/step - loss: 0.2094 - accuracy: 0.9413 - val_loss: 0.1997 - val_accuracy: 0.9459\n",
      "Epoch 24/4000\n",
      "240/240 [==============================] - 6s 27ms/step - loss: 0.2046 - accuracy: 0.9425 - val_loss: 0.1937 - val_accuracy: 0.9457\n",
      "Epoch 25/4000\n",
      "240/240 [==============================] - 6s 25ms/step - loss: 0.1997 - accuracy: 0.9440 - val_loss: 0.1903 - val_accuracy: 0.9481\n",
      "Epoch 26/4000\n",
      "240/240 [==============================] - 6s 26ms/step - loss: 0.1954 - accuracy: 0.9458 - val_loss: 0.1842 - val_accuracy: 0.9487\n",
      "Epoch 27/4000\n",
      "240/240 [==============================] - 6s 26ms/step - loss: 0.1913 - accuracy: 0.9468 - val_loss: 0.1811 - val_accuracy: 0.9506\n",
      "Epoch 28/4000\n",
      "240/240 [==============================] - 6s 26ms/step - loss: 0.1874 - accuracy: 0.9475 - val_loss: 0.1782 - val_accuracy: 0.9502\n",
      "Epoch 29/4000\n",
      "240/240 [==============================] - 6s 26ms/step - loss: 0.1838 - accuracy: 0.9484 - val_loss: 0.1764 - val_accuracy: 0.9508\n",
      "Epoch 30/4000\n",
      "240/240 [==============================] - 6s 25ms/step - loss: 0.1803 - accuracy: 0.9499 - val_loss: 0.1727 - val_accuracy: 0.9526\n",
      "Epoch 31/4000\n",
      "240/240 [==============================] - 6s 26ms/step - loss: 0.1771 - accuracy: 0.9509 - val_loss: 0.1685 - val_accuracy: 0.9531\n",
      "Epoch 32/4000\n",
      "240/240 [==============================] - 6s 26ms/step - loss: 0.1739 - accuracy: 0.9510 - val_loss: 0.1692 - val_accuracy: 0.9518\n",
      "Epoch 33/4000\n",
      "240/240 [==============================] - 6s 25ms/step - loss: 0.1710 - accuracy: 0.9524 - val_loss: 0.1649 - val_accuracy: 0.9535\n",
      "Epocas = 32\n"
     ]
    }
   ],
   "source": [
    "LOTES = 250\n",
    "EPOCAS  = 4000\n",
    "\n",
    "# entrena el modelo y guarda la historia del progreso\n",
    "es = EarlyStopping(monitor='val_accuracy', patience=3, min_delta=0.001)\n",
    "#ini = time.time()\n",
    "H = model.fit(x = X_train, y = Y_trainB, batch_size = LOTES, validation_data = (X_test, Y_testB),\n",
    "              epochs=EPOCAS, callbacks=[es])\n",
    "\n",
    "# H = model.fit(x = X_train, y = Y_train, batch_size = LOTES, epochs = EPOCAS, validation_data = (X_test, Y_test))\n",
    "\n",
    "print(\"Epocas = %d\" % es.stopped_epoch)\n",
    "#fin = time.time()\n",
    "#print(\"duracion = %.5f seg.\" % (fin-ini))\n"
   ]
  },
  {
   "cell_type": "code",
   "execution_count": 7,
   "id": "0b1ef05b",
   "metadata": {
    "colab": {
     "base_uri": "https://localhost:8080/",
     "height": 492
    },
    "executionInfo": {
     "elapsed": 881,
     "status": "ok",
     "timestamp": 1700870144951,
     "user": {
      "displayName": "Laura Lanzarini",
      "userId": "09081598862758330982"
     },
     "user_tz": 180
    },
    "id": "0b1ef05b",
    "outputId": "74373cc2-1183-4f6e-bc5a-1bb8f64ade13"
   },
   "outputs": [
    {
     "data": {
      "text/plain": [
       "<matplotlib.legend.Legend at 0x1c86ee09888>"
      ]
     },
     "execution_count": 7,
     "metadata": {},
     "output_type": "execute_result"
    },
    {
     "data": {
      "image/png": "[encoded data removed]",
      "text/plain": [
       "<Figure size 640x480 with 1 Axes>"
      ]
     },
     "metadata": {},
     "output_type": "display_data"
    }
   ],
   "source": [
    "# accuracy del progreso del entrenamiento\n",
    "accuracy = np.array(H.history[\"accuracy\"])\n",
    "val_accuracy = np.array(H.history[\"val_accuracy\"])\n",
    "\n",
    "N = np.arange(0, len(accuracy))\n",
    "plt.figure()\n",
    "#plt.plot(N, H.history[\"loss\"], label=\"train_loss\")\n",
    "#plt.plot(N, H.history[\"val_loss\"], label=\"val_loss\")\n",
    "plt.plot(N, 100*accuracy, label=\"train_acc\")\n",
    "plt.plot(N, 100*val_accuracy, label=\"val_acc\")\n",
    "plt.title(\"Efectividad de Entrenamiento\")\n",
    "plt.xlabel(\"Época #\")\n",
    "plt.ylabel(\"Efectividad\")\n",
    "plt.legend(loc=\"lower right\")"
   ]
  },
  {
   "cell_type": "code",
   "execution_count": 8,
   "id": "3dcc66c7",
   "metadata": {
    "colab": {
     "base_uri": "https://localhost:8080/",
     "height": 492
    },
    "executionInfo": {
     "elapsed": 39,
     "status": "ok",
     "timestamp": 1700870144952,
     "user": {
      "displayName": "Laura Lanzarini",
      "userId": "09081598862758330982"
     },
     "user_tz": 180
    },
    "id": "3dcc66c7",
    "outputId": "0778dd44-5f52-4d32-8d8c-6ddff822a0f9"
   },
   "outputs": [
    {
     "data": {
      "text/plain": [
       "<matplotlib.legend.Legend at 0x1c8757f9b08>"
      ]
     },
     "execution_count": 8,
     "metadata": {},
     "output_type": "execute_result"
    },
    {
     "data": {
      "image/png": "[encoded data removed]",
      "text/plain": [
       "<Figure size 640x480 with 1 Axes>"
      ]
     },
     "metadata": {},
     "output_type": "display_data"
    }
   ],
   "source": [
    "accuracy = np.array(H.history[\"loss\"])\n",
    "val_accuracy = np.array(H.history[\"val_loss\"])\n",
    "\n",
    "N = np.arange(0, len(accuracy))\n",
    "plt.figure()\n",
    "#plt.plot(N, H.history[\"loss\"], label=\"train_loss\")\n",
    "#plt.plot(N, H.history[\"val_loss\"], label=\"val_loss\")\n",
    "plt.plot(N, 100*accuracy, label=\"train_loss\")\n",
    "plt.plot(N, 100*val_accuracy, label=\"val_loss\")\n",
    "plt.title(\"Efectividad de Entrenamiento\")\n",
    "plt.xlabel(\"Época #\")\n",
    "plt.ylabel(\"Efectividad\")\n",
    "plt.legend(loc=\"upper right\")"
   ]
  },
  {
   "cell_type": "code",
   "execution_count": 9,
   "id": "d7eb2d8e",
   "metadata": {
    "colab": {
     "base_uri": "https://localhost:8080/"
    },
    "executionInfo": {
     "elapsed": 482,
     "status": "ok",
     "timestamp": 1700870145414,
     "user": {
      "displayName": "Laura Lanzarini",
      "userId": "09081598862758330982"
     },
     "user_tz": 180
    },
    "id": "d7eb2d8e",
    "outputId": "0c242fc2-a206-42f5-f06c-5fcbbbd03ff8"
   },
   "outputs": [
    {
     "name": "stdout",
     "output_type": "stream",
     "text": [
      "40/40 [==============================] - 0s 11ms/step - loss: 0.1649 - accuracy: 0.9535\n",
      "\n",
      "Efectividad del modelo con datos de validación:  95.35%\n"
     ]
    }
   ],
   "source": [
    "# evalua el modelo con los datos de validacion\n",
    "pred = model.evaluate(X_test, Y_testB, batch_size = LOTES)\n",
    "\n",
    "print(\"\\nEfectividad del modelo con datos de validación: %6.2f%%\" % (pred[1]*100))"
   ]
  },
  {
   "cell_type": "code",
   "execution_count": 10,
   "id": "0dc6b30f",
   "metadata": {
    "colab": {
     "base_uri": "https://localhost:8080/"
    },
    "executionInfo": {
     "elapsed": 8203,
     "status": "ok",
     "timestamp": 1700872017603,
     "user": {
      "displayName": "Laura Lanzarini",
      "userId": "09081598862758330982"
     },
     "user_tz": 180
    },
    "id": "0dc6b30f",
    "outputId": "357a254c-d05b-4cf9-9d1d-3f5e1e732712"
   },
   "outputs": [
    {
     "name": "stdout",
     "output_type": "stream",
     "text": [
      "1875/1875 [==============================] - 6s 3ms/step\n",
      "Confusion matrix Training:\n",
      "              precision    recall  f1-score   support\n",
      "\n",
      "           0       0.97      0.98      0.97      5923\n",
      "           1       0.97      0.98      0.98      6742\n",
      "           2       0.95      0.93      0.94      5958\n",
      "           3       0.94      0.95      0.94      6131\n",
      "           4       0.95      0.96      0.96      5842\n",
      "           5       0.95      0.95      0.95      5421\n",
      "           6       0.96      0.98      0.97      5918\n",
      "           7       0.96      0.95      0.95      6265\n",
      "           8       0.94      0.92      0.93      5851\n",
      "           9       0.94      0.93      0.94      5949\n",
      "\n",
      "    accuracy                           0.95     60000\n",
      "   macro avg       0.95      0.95      0.95     60000\n",
      "weighted avg       0.95      0.95      0.95     60000\n",
      "\n",
      "Confusion matrix:\n",
      "[[5785    1   13   10   15   19   42    7   25    6]\n",
      " [   3 6625   27   17   18    4    6   11   27    4]\n",
      " [  22   40 5529   61   52   10   46   67  109   22]\n",
      " [  13    9   67 5832    4   78    8   30   57   33]\n",
      " [  11   18   19    5 5623    0   49   14   14   89]\n",
      " [  18   18   18   81   12 5155   41    6   50   22]\n",
      " [  33    8   16    1   22   41 5776    5   16    0]\n",
      " [  14   19   58   32   37    6    3 5941   21  134]\n",
      " [  26   69   38  108   34   92   39   16 5373   56]\n",
      " [  24   13    8   71  109   30    2  123   22 5547]]\n"
     ]
    }
   ],
   "source": [
    "from sklearn import preprocessing, metrics, model_selection\n",
    "\n",
    "#----- TRAIN -----\n",
    "Y_predB = model.predict(X_train)\n",
    "Y_pred = np.argmax(Y_predB,axis=1)\n",
    "\n",
    "report = metrics.classification_report(Y_train,Y_pred)\n",
    "print(\"Confusion matrix Training:\\n%s\" % report)\n",
    "\n",
    "MM = metrics.confusion_matrix(Y_train,Y_pred)\n",
    "print(\"Confusion matrix:\\n%s\" % MM)"
   ]
  },
  {
   "cell_type": "code",
   "execution_count": 11,
   "id": "1e5b7702",
   "metadata": {
    "colab": {
     "base_uri": "https://localhost:8080/"
    },
    "executionInfo": {
     "elapsed": 4892,
     "status": "ok",
     "timestamp": 1700872027360,
     "user": {
      "displayName": "Laura Lanzarini",
      "userId": "09081598862758330982"
     },
     "user_tz": 180
    },
    "id": "1e5b7702",
    "outputId": "45894ca9-de9d-4db5-ac85-89ca7a92cf3d"
   },
   "outputs": [
    {
     "name": "stdout",
     "output_type": "stream",
     "text": [
      "313/313 [==============================] - 1s 2ms/step\n",
      "% aciertos X_test : 0.954\n",
      "\n",
      "Confusion matrix Test:\n",
      "              precision    recall  f1-score   support\n",
      "\n",
      "           0       0.96      0.98      0.97       980\n",
      "           1       0.98      0.99      0.98      1135\n",
      "           2       0.96      0.93      0.94      1032\n",
      "           3       0.93      0.96      0.95      1010\n",
      "           4       0.96      0.97      0.96       982\n",
      "           5       0.95      0.94      0.94       892\n",
      "           6       0.96      0.97      0.96       958\n",
      "           7       0.96      0.94      0.95      1028\n",
      "           8       0.94      0.92      0.93       974\n",
      "           9       0.95      0.94      0.94      1009\n",
      "\n",
      "    accuracy                           0.95     10000\n",
      "   macro avg       0.95      0.95      0.95     10000\n",
      "weighted avg       0.95      0.95      0.95     10000\n",
      "\n",
      "Confusion matrix:\n",
      "[[ 964    0    2    1    0    1    5    3    3    1]\n",
      " [   0 1121    2    3    0    2    3    1    3    0]\n",
      " [   7    6  956   10    8    1    7    8   27    2]\n",
      " [   0    0   10  972    2   10    1    4    8    3]\n",
      " [   1    1    2    1  949    0   10    2    2   14]\n",
      " [   7    1    1   16    2  840    9    2   12    2]\n",
      " [  11    3    1    0    6   12  925    0    0    0]\n",
      " [   1    3   21    9    2    2    0  965    4   21]\n",
      " [   9    3    5   19    7   13    7    6  898    7]\n",
      " [   8    5    1   12   16    5    1   13    3  945]]\n"
     ]
    }
   ],
   "source": [
    "# -- TESTING ---\n",
    "Y_predB = model.predict(X_test)\n",
    "Y_pred = np.argmax(Y_predB,axis=1)\n",
    "\n",
    "print(\"%% aciertos X_test : %.3f\\n\" % metrics.accuracy_score(Y_test,Y_pred))\n",
    "\n",
    "report = metrics.classification_report(Y_test, Y_pred)\n",
    "print(\"Confusion matrix Test:\\n%s\" % report)\n",
    "\n",
    "MM = metrics.confusion_matrix(Y_test, Y_pred)\n",
    "print(\"Confusion matrix:\\n%s\" % MM)"
   ]
  }
 ],
 "metadata": {
  "accelerator": "GPU",
  "colab": {
   "gpuType": "T4",
   "provenance": []
  },
  "kernelspec": {
   "display_name": "Python 3 (ipykernel)",
   "language": "python",
   "name": "python3"
  },
  "language_info": {
   "codemirror_mode": {
    "name": "ipython",
    "version": 3
   },
   "file_extension": ".py",
   "mimetype": "text/x-python",
   "name": "python",
   "nbconvert_exporter": "python",
   "pygments_lexer": "ipython3",
   "version": "3.7.13"
  }
 },
 "nbformat": 4,
 "nbformat_minor": 5
}
