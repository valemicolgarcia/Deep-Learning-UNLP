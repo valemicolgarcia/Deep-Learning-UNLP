{
 "cells": [
  {
   "cell_type": "code",
   "execution_count": 1,
   "id": "99757172",
   "metadata": {},
   "outputs": [
    {
     "name": "stdout",
     "output_type": "stream",
     "text": [
      "Model: \"vgg16\"\n",
      "_________________________________________________________________\n",
      " Layer (type)                Output Shape              Param #   \n",
      "=================================================================\n",
      " input_1 (InputLayer)        [(None, 224, 224, 3)]     0         \n",
      "                                                                 \n",
      " block1_conv1 (Conv2D)       (None, 224, 224, 64)      1792      \n",
      "                                                                 \n",
      " block1_conv2 (Conv2D)       (None, 224, 224, 64)      36928     \n",
      "                                                                 \n",
      " block1_pool (MaxPooling2D)  (None, 112, 112, 64)      0         \n",
      "                                                                 \n",
      " block2_conv1 (Conv2D)       (None, 112, 112, 128)     73856     \n",
      "                                                                 \n",
      " block2_conv2 (Conv2D)       (None, 112, 112, 128)     147584    \n",
      "                                                                 \n",
      " block2_pool (MaxPooling2D)  (None, 56, 56, 128)       0         \n",
      "                                                                 \n",
      " block3_conv1 (Conv2D)       (None, 56, 56, 256)       295168    \n",
      "                                                                 \n",
      " block3_conv2 (Conv2D)       (None, 56, 56, 256)       590080    \n",
      "                                                                 \n",
      " block3_conv3 (Conv2D)       (None, 56, 56, 256)       590080    \n",
      "                                                                 \n",
      " block3_pool (MaxPooling2D)  (None, 28, 28, 256)       0         \n",
      "                                                                 \n",
      " block4_conv1 (Conv2D)       (None, 28, 28, 512)       1180160   \n",
      "                                                                 \n",
      " block4_conv2 (Conv2D)       (None, 28, 28, 512)       2359808   \n",
      "                                                                 \n",
      " block4_conv3 (Conv2D)       (None, 28, 28, 512)       2359808   \n",
      "                                                                 \n",
      " block4_pool (MaxPooling2D)  (None, 14, 14, 512)       0         \n",
      "                                                                 \n",
      " block5_conv1 (Conv2D)       (None, 14, 14, 512)       2359808   \n",
      "                                                                 \n",
      " block5_conv2 (Conv2D)       (None, 14, 14, 512)       2359808   \n",
      "                                                                 \n",
      " block5_conv3 (Conv2D)       (None, 14, 14, 512)       2359808   \n",
      "                                                                 \n",
      " block5_pool (MaxPooling2D)  (None, 7, 7, 512)         0         \n",
      "                                                                 \n",
      " flatten (Flatten)           (None, 25088)             0         \n",
      "                                                                 \n",
      " fc1 (Dense)                 (None, 4096)              102764544 \n",
      "                                                                 \n",
      " fc2 (Dense)                 (None, 4096)              16781312  \n",
      "                                                                 \n",
      " predictions (Dense)         (None, 1000)              4097000   \n",
      "                                                                 \n",
      "=================================================================\n",
      "Total params: 138,357,544\n",
      "Trainable params: 138,357,544\n",
      "Non-trainable params: 0\n",
      "_________________________________________________________________\n",
      "None\n"
     ]
    }
   ],
   "source": [
    "from tensorflow.keras.applications.vgg16 import VGG16\n",
    "from tensorflow.keras.preprocessing.image import load_img\n",
    "from tensorflow.keras.preprocessing.image import img_to_array\n",
    "from tensorflow.keras.applications.vgg16 import preprocess_input\n",
    "from tensorflow.keras.applications.vgg16 import decode_predictions\n",
    "import tensorflow as tf\n",
    "\n",
    "# Descargue manualmente el modelo y colóquelo en el directorio C: \\ Users \\ nombre de usuario \\ .keras \\ models, la dirección de descarga es la siguiente:\n",
    "# https://github.com/fchollet/deep-learning-models/releases/download/v0.1/vgg16_weights_tf_dim_ordering_tf_kernels.h5\n",
    "# https://github.com/fchollet/deep-learning-models/releases/download/v0.1/vgg16_weights_tf_dim_ordering_tf_kernels_notop.h5\n",
    "\n",
    "# Cargar modelo e imprimir\n",
    "model = VGG16()\n",
    "print(model.summary())\n"
   ]
  },
  {
   "cell_type": "code",
   "execution_count": 16,
   "id": "c1fb9aa1",
   "metadata": {},
   "outputs": [
    {
     "data": {
      "image/png": "[encoded data removed]",
      "text/plain": [
       "<PIL.Image.Image image mode=RGB size=224x224>"
      ]
     },
     "execution_count": 16,
     "metadata": {},
     "output_type": "execute_result"
    }
   ],
   "source": [
    "# Cargar una imagen de prueba\n",
    "# tigre.jpg, tigre.jpg, gato03.jpg, violin.png, panda.png, leon.png\n",
    "#image = load_img(\"leon.png\", target_size=(224, 224))\n",
    "image = load_img(\"stick_insect01.jpg\", target_size=(224, 224))\n",
    "\n",
    "image"
   ]
  },
  {
   "cell_type": "code",
   "execution_count": 17,
   "id": "a4a726f2",
   "metadata": {},
   "outputs": [
    {
     "name": "stdout",
     "output_type": "stream",
     "text": [
      "Imagen convertida en matriz -->  (224, 224, 3)\n",
      "Imagen en 4D -->  (1, 224, 224, 3)\n",
      "Resultado del preprocesamiento -->  (1, 224, 224, 3)\n",
      "1/1 [==============================] - 1s 756ms/step\n"
     ]
    },
    {
     "data": {
      "text/plain": [
       "[[('n02231487', 'walking_stick', 0.76080716),\n",
       "  ('n02236044', 'mantis', 0.22499628),\n",
       "  ('n02229544', 'cricket', 0.0075832033),\n",
       "  ('n02226429', 'grasshopper', 0.005152063),\n",
       "  ('n02259212', 'leafhopper', 0.00023731649)]]"
      ]
     },
     "execution_count": 17,
     "metadata": {},
     "output_type": "execute_result"
    }
   ],
   "source": [
    "  # Convertir a matriz\n",
    "image = img_to_array(image)\n",
    "print(\"Imagen convertida en matriz --> \", image.shape)\n",
    "\n",
    "  # Reformar en 4D\n",
    "image = image.reshape((1, image.shape[0], image.shape[1], image.shape[2]))\n",
    "print(\"Imagen en 4D --> \", image.shape)\n",
    "\n",
    "  # Imagen de preproceso   \n",
    "image = preprocess_input(image)\n",
    "print(\"Resultado del preprocesamiento --> \", image.shape)\n",
    "\n",
    "  # Pronóstico\n",
    "predict_result = model.predict(image)\n",
    "\n",
    "  # Resultados de predicción de análisis\n",
    "label = decode_predictions(predict_result)\n",
    "label"
   ]
  },
  {
   "cell_type": "code",
   "execution_count": 18,
   "id": "a5359e9b",
   "metadata": {},
   "outputs": [
    {
     "name": "stdout",
     "output_type": "stream",
     "text": [
      "|walking_stick  |  0.760807|\n",
      "|mantis         |  0.224996|\n",
      "|cricket        |  0.007583|\n"
     ]
    }
   ],
   "source": [
    "  # Imprima las tres categorías con mayor probabilidad\n",
    "for idx in range(0, 3):\n",
    "    categoria = label[0][idx][1]\n",
    "    prob = label[0][idx][2]\n",
    "    print(\"|{:<15}|{:>10.6f}|\".format(categoria, prob))\n",
    "\n",
    "# Limpiar\n",
    "#tf.keras.backend.clear_session()\n",
    "\n",
    "\n",
    "# \"\""
   ]
  },
  {
   "cell_type": "code",
   "execution_count": null,
   "id": "af644fda",
   "metadata": {},
   "outputs": [],
   "source": []
  }
 ],
 "metadata": {
  "kernelspec": {
   "display_name": "Python 3 (ipykernel)",
   "language": "python",
   "name": "python3"
  },
  "language_info": {
   "codemirror_mode": {
    "name": "ipython",
    "version": 3
   },
   "file_extension": ".py",
   "mimetype": "text/x-python",
   "name": "python",
   "nbconvert_exporter": "python",
   "pygments_lexer": "ipython3",
   "version": "3.7.16"
  }
 },
 "nbformat": 4,
 "nbformat_minor": 5
}
