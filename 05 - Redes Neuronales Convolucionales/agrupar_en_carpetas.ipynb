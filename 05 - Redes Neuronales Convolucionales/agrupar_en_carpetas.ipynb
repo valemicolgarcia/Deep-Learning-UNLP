{
 "cells": [
  {
   "cell_type": "code",
   "execution_count": 2,
   "metadata": {},
   "outputs": [
    {
     "name": "stdout",
     "output_type": "stream",
     "text": [
      "Imágenes agrupadas por label en train.\n",
      "Imágenes agrupadas por label en test.\n"
     ]
    }
   ],
   "source": [
    "import os\n",
    "import shutil\n",
    "\n",
    "def agrupar_imagenes_por_label_respetando_estructura(src_dir, dest_dir):\n",
    "    \"\"\"\n",
    "    Agrupa las imágenes en el directorio de origen (src_dir) según la etiqueta extraída\n",
    "    de la posición -6 del nombre del archivo y las organiza en subcarpetas dentro de 'train' y 'test'\n",
    "    en el directorio de destino (dest_dir).\n",
    "    \n",
    "    :param src_dir: Directorio de origen que contiene las subcarpetas 'train' y 'test'.\n",
    "    :param dest_dir: Directorio de destino donde se crearán las subcarpetas por cada label dentro de 'train' y 'test'.\n",
    "    \"\"\"\n",
    "    # Crear el directorio de destino si no existe\n",
    "    if not os.path.exists(dest_dir):\n",
    "        os.makedirs(dest_dir)\n",
    "\n",
    "    # Subcarpetas 'train' y 'test'\n",
    "    for folder in ['train', 'test']:\n",
    "        folder_path = os.path.join(src_dir, folder)\n",
    "        \n",
    "        # Asegurarse de que la carpeta existe\n",
    "        if not os.path.exists(folder_path):\n",
    "            print(f\"La carpeta {folder_path} no existe.\")\n",
    "            continue\n",
    "        \n",
    "        # Recorrer cada archivo en la carpeta 'train' o 'test'\n",
    "        for filename in os.listdir(folder_path):\n",
    "            if filename.endswith('.png'):  # Asegurarse de procesar solo archivos .png\n",
    "                label = filename[-6]  # Extraer la etiqueta desde el nombre del archivo\n",
    "\n",
    "                # Crear la estructura de carpetas en el nuevo directorio\n",
    "                new_folder_path = os.path.join(dest_dir, folder, label)\n",
    "                if not os.path.exists(new_folder_path):\n",
    "                    os.makedirs(new_folder_path)\n",
    "\n",
    "                # Copiar la imagen al nuevo directorio con la carpeta de la etiqueta dentro de 'train' o 'test'\n",
    "                src_path = os.path.join(folder_path, filename)\n",
    "                dest_path = os.path.join(new_folder_path, filename)\n",
    "                shutil.copy(src_path, dest_path)\n",
    "\n",
    "        print(f\"Imágenes agrupadas por label en {folder}.\")\n",
    "\n",
    "# Uso de la función\n",
    "src_dir = 'C:\\\\Users\\\\VICTUS\\\\Documents\\\\2024\\\\Deep_Learning_UNLP\\\\Datos\\\\fingers2'  # Directorio que contiene las subcarpetas 'train' y 'test'\n",
    "dest_dir = 'C:\\\\Users\\\\VICTUS\\\\Documents\\\\2024\\\\Deep_Learning_UNLP\\\\Datos\\\\fingers_by_label'  # Nuevo directorio donde se agruparán las imágenes respetando la estructura\n",
    "\n",
    "agrupar_imagenes_por_label_respetando_estructura(src_dir,dest_dir)"
   ]
  }
 ],
 "metadata": {
  "kernelspec": {
   "display_name": "base",
   "language": "python",
   "name": "python3"
  },
  "language_info": {
   "codemirror_mode": {
    "name": "ipython",
    "version": 3
   },
   "file_extension": ".py",
   "mimetype": "text/x-python",
   "name": "python",
   "nbconvert_exporter": "python",
   "pygments_lexer": "ipython3",
   "version": "3.11.5"
  }
 },
 "nbformat": 4,
 "nbformat_minor": 2
}
