{
 "cells": [
  {
   "cell_type": "code",
   "execution_count": 1,
   "id": "64e3c675",
   "metadata": {},
   "outputs": [],
   "source": [
    "# import tensoflow.keras\n",
    "from tensorflow.keras.layers import Dense, Input\n",
    "from tensorflow.keras.models import Model\n",
    "from tensorflow.keras.datasets import mnist\n",
    "import numpy as np\n",
    "import matplotlib.pyplot as plt\n",
    "# from PIL import Image"
   ]
  },
  {
   "cell_type": "code",
   "execution_count": 2,
   "id": "9a27f0fa",
   "metadata": {},
   "outputs": [
    {
     "name": "stdout",
     "output_type": "stream",
     "text": [
      "(60000, 784) (10000, 784) 784\n"
     ]
    }
   ],
   "source": [
    "np.random.seed(1337)\n",
    "\n",
    "#-- Cargar sólo las imágenes sin las etiquetas ---\n",
    "(x_train, _), (x_test, _) = mnist.load_data()\n",
    "input_dim = 28*28\n",
    "x_train = np.reshape(x_train, [-1, input_dim])/255.0\n",
    "x_test = np.reshape(x_test,   [-1, input_dim])/255.0\n",
    "\n",
    "print(x_train.shape,x_test.shape,input_dim)"
   ]
  },
  {
   "cell_type": "code",
   "execution_count": 3,
   "id": "60a4ea8d",
   "metadata": {},
   "outputs": [
    {
     "name": "stdout",
     "output_type": "stream",
     "text": [
      "Model: \"encoder\"\n",
      "_________________________________________________________________\n",
      "Layer (type)                 Output Shape              Param #   \n",
      "=================================================================\n",
      "encoder_input (InputLayer)   [(None, 784)]             0         \n",
      "_________________________________________________________________\n",
      "latent_vector (Dense)        (None, 32)                25120     \n",
      "=================================================================\n",
      "Total params: 25,120\n",
      "Trainable params: 25,120\n",
      "Non-trainable params: 0\n",
      "_________________________________________________________________\n",
      "None\n",
      "Model: \"decoder\"\n",
      "_________________________________________________________________\n",
      "Layer (type)                 Output Shape              Param #   \n",
      "=================================================================\n",
      "decoder_input (InputLayer)   [(None, 32)]              0         \n",
      "_________________________________________________________________\n",
      "decoder_output (Dense)       (None, 784)               25872     \n",
      "=================================================================\n",
      "Total params: 25,872\n",
      "Trainable params: 25,872\n",
      "Non-trainable params: 0\n",
      "_________________________________________________________________\n",
      "None\n",
      "Model: \"autoencoder\"\n",
      "_________________________________________________________________\n",
      "Layer (type)                 Output Shape              Param #   \n",
      "=================================================================\n",
      "encoder_input (InputLayer)   [(None, 784)]             0         \n",
      "_________________________________________________________________\n",
      "encoder (Functional)         (None, 32)                25120     \n",
      "_________________________________________________________________\n",
      "decoder (Functional)         (None, 784)               25872     \n",
      "=================================================================\n",
      "Total params: 50,992\n",
      "Trainable params: 50,992\n",
      "Non-trainable params: 0\n",
      "_________________________________________________________________\n",
      "None\n"
     ]
    }
   ],
   "source": [
    "# This is the size of our encoded representations\n",
    "encoding_dim = 32  # 32 flotantes -> factor de compresion 24.5, asumiendo una entrada de 28x28=784\n",
    "\n",
    "##-------- ENCODER ---------------\n",
    "encoder_input = Input(shape=(input_dim,), name='encoder_input')\n",
    "code = Dense(encoding_dim, activation='relu', name='latent_vector')(encoder_input)\n",
    "encoder = Model(encoder_input, code, name='encoder')\n",
    "\n",
    "##------- DECODER -----------\n",
    "latent_input = Input(shape=(encoding_dim,), name='decoder_input')\n",
    "decoded_image = Dense(input_dim,activation=\"sigmoid\",name='decoder_output')(latent_input)\n",
    "decoder = Model(latent_input, decoded_image, name='decoder')\n",
    "\n",
    "# Este modelo mapea una entrada en su reconstrucción\n",
    "autoencoder = Model(encoder_input, decoder(encoder(encoder_input)), name='autoencoder')\n",
    "\n",
    "autoencoder.compile(loss='binary_crossentropy', optimizer='adam')\n",
    "\n",
    "print(encoder.summary()) \n",
    "print(decoder.summary()) \n",
    "print(autoencoder.summary()) "
   ]
  },
  {
   "cell_type": "code",
   "execution_count": 4,
   "id": "b18c7b15",
   "metadata": {},
   "outputs": [
    {
     "name": "stdout",
     "output_type": "stream",
     "text": [
      "Epoch 1/50\n",
      "469/469 [==============================] - 2s 5ms/step - loss: 0.2298 - val_loss: 0.1601\n",
      "Epoch 2/50\n",
      "469/469 [==============================] - 2s 4ms/step - loss: 0.1421 - val_loss: 0.1265\n",
      "Epoch 3/50\n",
      "469/469 [==============================] - 3s 5ms/step - loss: 0.1197 - val_loss: 0.1117\n",
      "Epoch 4/50\n",
      "469/469 [==============================] - 2s 5ms/step - loss: 0.1086 - val_loss: 0.1034\n",
      "Epoch 5/50\n",
      "469/469 [==============================] - 2s 5ms/step - loss: 0.1020 - val_loss: 0.0984\n",
      "Epoch 6/50\n",
      "469/469 [==============================] - 2s 5ms/step - loss: 0.0981 - val_loss: 0.0957\n",
      "Epoch 7/50\n",
      "469/469 [==============================] - 2s 5ms/step - loss: 0.0961 - val_loss: 0.0943\n",
      "Epoch 8/50\n",
      "469/469 [==============================] - 2s 5ms/step - loss: 0.0952 - val_loss: 0.0935\n",
      "Epoch 9/50\n",
      "469/469 [==============================] - 2s 5ms/step - loss: 0.0946 - val_loss: 0.0931\n",
      "Epoch 10/50\n",
      "469/469 [==============================] - 2s 4ms/step - loss: 0.0942 - val_loss: 0.0927\n",
      "Epoch 11/50\n",
      "469/469 [==============================] - 3s 5ms/step - loss: 0.0940 - val_loss: 0.0926\n",
      "Epoch 12/50\n",
      "469/469 [==============================] - 2s 4ms/step - loss: 0.0938 - val_loss: 0.0924\n",
      "Epoch 13/50\n",
      "469/469 [==============================] - 2s 5ms/step - loss: 0.0936 - val_loss: 0.0923\n",
      "Epoch 14/50\n",
      "469/469 [==============================] - 2s 5ms/step - loss: 0.0935 - val_loss: 0.0922\n",
      "Epoch 15/50\n",
      "469/469 [==============================] - 2s 5ms/step - loss: 0.0934 - val_loss: 0.0922\n",
      "Epoch 16/50\n",
      "469/469 [==============================] - 2s 4ms/step - loss: 0.0933 - val_loss: 0.0921\n",
      "Epoch 17/50\n",
      "469/469 [==============================] - 2s 4ms/step - loss: 0.0933 - val_loss: 0.0920\n",
      "Epoch 18/50\n",
      "469/469 [==============================] - 2s 4ms/step - loss: 0.0932 - val_loss: 0.0919\n",
      "Epoch 19/50\n",
      "469/469 [==============================] - 2s 4ms/step - loss: 0.0932 - val_loss: 0.0919\n",
      "Epoch 20/50\n",
      "469/469 [==============================] - 2s 4ms/step - loss: 0.0931 - val_loss: 0.0918\n",
      "Epoch 21/50\n",
      "469/469 [==============================] - 2s 4ms/step - loss: 0.0931 - val_loss: 0.0918\n",
      "Epoch 22/50\n",
      "469/469 [==============================] - 2s 4ms/step - loss: 0.0930 - val_loss: 0.0919\n",
      "Epoch 23/50\n",
      "469/469 [==============================] - 2s 5ms/step - loss: 0.0930 - val_loss: 0.0917\n",
      "Epoch 24/50\n",
      "469/469 [==============================] - 2s 5ms/step - loss: 0.0930 - val_loss: 0.0919\n",
      "Epoch 25/50\n",
      "469/469 [==============================] - 2s 5ms/step - loss: 0.0929 - val_loss: 0.0918\n",
      "Epoch 26/50\n",
      "469/469 [==============================] - 2s 5ms/step - loss: 0.0929 - val_loss: 0.0917\n",
      "Epoch 27/50\n",
      "469/469 [==============================] - 2s 4ms/step - loss: 0.0929 - val_loss: 0.0917\n",
      "Epoch 28/50\n",
      "469/469 [==============================] - 2s 4ms/step - loss: 0.0929 - val_loss: 0.0918\n",
      "Epoch 29/50\n",
      "469/469 [==============================] - 2s 4ms/step - loss: 0.0928 - val_loss: 0.0916\n",
      "Epoch 30/50\n",
      "469/469 [==============================] - 2s 5ms/step - loss: 0.0928 - val_loss: 0.0916\n",
      "Epoch 31/50\n",
      "469/469 [==============================] - ETA: 0s - loss: 0.092 - 2s 4ms/step - loss: 0.0928 - val_loss: 0.0916\n",
      "Epoch 32/50\n",
      "469/469 [==============================] - 2s 4ms/step - loss: 0.0928 - val_loss: 0.0916\n",
      "Epoch 33/50\n",
      "469/469 [==============================] - 2s 4ms/step - loss: 0.0928 - val_loss: 0.0916\n",
      "Epoch 34/50\n",
      "469/469 [==============================] - 2s 4ms/step - loss: 0.0927 - val_loss: 0.0916\n",
      "Epoch 35/50\n",
      "469/469 [==============================] - 2s 4ms/step - loss: 0.0927 - val_loss: 0.0916\n",
      "Epoch 36/50\n",
      "469/469 [==============================] - 2s 4ms/step - loss: 0.0927 - val_loss: 0.0916\n",
      "Epoch 37/50\n",
      "469/469 [==============================] - 2s 4ms/step - loss: 0.0927 - val_loss: 0.0915\n",
      "Epoch 38/50\n",
      "469/469 [==============================] - 2s 5ms/step - loss: 0.0927 - val_loss: 0.0916\n",
      "Epoch 39/50\n",
      "469/469 [==============================] - 2s 4ms/step - loss: 0.0927 - val_loss: 0.0916\n",
      "Epoch 40/50\n",
      "469/469 [==============================] - 2s 4ms/step - loss: 0.0926 - val_loss: 0.0916\n",
      "Epoch 41/50\n",
      "469/469 [==============================] - 2s 4ms/step - loss: 0.0927 - val_loss: 0.0915\n",
      "Epoch 42/50\n",
      "469/469 [==============================] - 2s 5ms/step - loss: 0.0926 - val_loss: 0.0915\n",
      "Epoch 43/50\n",
      "469/469 [==============================] - 2s 4ms/step - loss: 0.0926 - val_loss: 0.0915\n",
      "Epoch 44/50\n",
      "469/469 [==============================] - 2s 4ms/step - loss: 0.0926 - val_loss: 0.0914\n",
      "Epoch 45/50\n",
      "469/469 [==============================] - 2s 5ms/step - loss: 0.0926 - val_loss: 0.0915\n",
      "Epoch 46/50\n",
      "469/469 [==============================] - 2s 5ms/step - loss: 0.0926 - val_loss: 0.0916\n",
      "Epoch 47/50\n",
      "469/469 [==============================] - 2s 4ms/step - loss: 0.0926 - val_loss: 0.0914\n",
      "Epoch 48/50\n",
      "469/469 [==============================] - 2s 4ms/step - loss: 0.0925 - val_loss: 0.0914\n",
      "Epoch 49/50\n",
      "469/469 [==============================] - 2s 4ms/step - loss: 0.0925 - val_loss: 0.0914\n",
      "Epoch 50/50\n",
      "469/469 [==============================] - 2s 4ms/step - loss: 0.0925 - val_loss: 0.0915\n"
     ]
    },
    {
     "data": {
      "text/plain": [
       "<tensorflow.python.keras.callbacks.History at 0x1c5001ee988>"
      ]
     },
     "execution_count": 4,
     "metadata": {},
     "output_type": "execute_result"
    }
   ],
   "source": [
    "batch_size = 128\n",
    "# Entrenando el autoencoder\n",
    "autoencoder.fit(x_train,\n",
    "                x_train,\n",
    "                validation_data=(x_test, x_test),\n",
    "                epochs=50,\n",
    "                batch_size=batch_size)"
   ]
  },
  {
   "cell_type": "code",
   "execution_count": 5,
   "id": "fc93dfea",
   "metadata": {},
   "outputs": [],
   "source": [
    "# Predicción del Autoencoder \n",
    "x_decoded = autoencoder.predict(x_test)"
   ]
  },
  {
   "cell_type": "code",
   "execution_count": 6,
   "id": "4a9cb18c",
   "metadata": {},
   "outputs": [
    {
     "data": {
      "image/png": "[encoded data removed]",
      "text/plain": [
       "<Figure size 1440x288 with 20 Axes>"
      ]
     },
     "metadata": {
      "needs_background": "light"
     },
     "output_type": "display_data"
    }
   ],
   "source": [
    "# Codifica y decodifica algunos dígitos\n",
    "encoded_imgs = encoder.predict(x_test)\n",
    "decoded_imgs = decoder.predict(encoded_imgs)\n",
    "\n",
    "n = 10  # Cantidad de dígitos a visualizar\n",
    "plt.figure(figsize=(20, 4))\n",
    "for i in range(n):\n",
    "    # Display original\n",
    "    ax = plt.subplot(2, n, i + 1)\n",
    "    plt.imshow(x_test[i].reshape(28, 28))\n",
    "    plt.gray()\n",
    "    ax.get_xaxis().set_visible(False)\n",
    "    ax.get_yaxis().set_visible(False)\n",
    "\n",
    "    # Visualizando la reconstrucción\n",
    "    ax = plt.subplot(2, n, i + 1 + n)\n",
    "    plt.imshow(decoded_imgs[i].reshape(28, 28))\n",
    "    plt.gray()\n",
    "    ax.get_xaxis().set_visible(False)\n",
    "    ax.get_yaxis().set_visible(False)\n",
    "plt.show()\n",
    "\n",
    "\n"
   ]
  }
 ],
 "metadata": {
  "kernelspec": {
   "display_name": "Python 3 (ipykernel)",
   "language": "python",
   "name": "python3"
  },
  "language_info": {
   "codemirror_mode": {
    "name": "ipython",
    "version": 3
   },
   "file_extension": ".py",
   "mimetype": "text/x-python",
   "name": "python",
   "nbconvert_exporter": "python",
   "pygments_lexer": "ipython3",
   "version": "3.7.16"
  }
 },
 "nbformat": 4,
 "nbformat_minor": 5
}
